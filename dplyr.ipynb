{
  "nbformat": 4,
  "nbformat_minor": 0,
  "metadata": {
    "colab": {
      "provenance": []
    },
    "kernelspec": {
      "name": "ir",
      "display_name": "R"
    },
    "language_info": {
      "name": "R"
    }
  },
  "cells": [
    {
      "cell_type": "code",
      "execution_count": 21,
      "metadata": {
        "id": "w0yyPayRcwMH"
      },
      "outputs": [],
      "source": [
        "library(tidyverse)"
      ]
    },
    {
      "cell_type": "code",
      "source": [
        "transacoes_milhas <- read_csv(\"/content/transacoes_milhas.csv\")"
      ],
      "metadata": {
        "colab": {
          "base_uri": "https://localhost:8080/"
        },
        "id": "td7q6I39yJPQ",
        "outputId": "f0462c55-f17f-4b31-a82d-3a40c67a5c48"
      },
      "execution_count": 22,
      "outputs": [
        {
          "output_type": "stream",
          "name": "stderr",
          "text": [
            "\u001b[1mRows: \u001b[22m\u001b[34m1000\u001b[39m \u001b[1mColumns: \u001b[22m\u001b[34m4\u001b[39m\n",
            "\u001b[36m──\u001b[39m \u001b[1mColumn specification\u001b[22m \u001b[36m────────────────────────────────────────────────────────\u001b[39m\n",
            "\u001b[1mDelimiter:\u001b[22m \",\"\n",
            "\u001b[32mdbl\u001b[39m  (3): id_cliente, milhas_vendidas, valor_recebido\n",
            "\u001b[34mdate\u001b[39m (1): data_venda_milhas\n",
            "\n",
            "\u001b[36mℹ\u001b[39m Use `spec()` to retrieve the full column specification for this data.\n",
            "\u001b[36mℹ\u001b[39m Specify the column types or set `show_col_types = FALSE` to quiet this message.\n"
          ]
        }
      ]
    },
    {
      "cell_type": "code",
      "source": [
        "transacoes_passagens <- read_csv(\"/content/transacoes_passagens.csv\")"
      ],
      "metadata": {
        "colab": {
          "base_uri": "https://localhost:8080/"
        },
        "id": "RW2l7i6WyhWq",
        "outputId": "b3b23ed4-70d7-450c-b0b1-962e1561c6e8"
      },
      "execution_count": 23,
      "outputs": [
        {
          "output_type": "stream",
          "name": "stderr",
          "text": [
            "\u001b[1mRows: \u001b[22m\u001b[34m1000\u001b[39m \u001b[1mColumns: \u001b[22m\u001b[34m6\u001b[39m\n",
            "\u001b[36m──\u001b[39m \u001b[1mColumn specification\u001b[22m \u001b[36m────────────────────────────────────────────────────────\u001b[39m\n",
            "\u001b[1mDelimiter:\u001b[22m \",\"\n",
            "\u001b[31mchr\u001b[39m  (1): classe_voo\n",
            "\u001b[32mdbl\u001b[39m  (4): id_cliente, milhas_utilizadas, valor_pago, numero_voo\n",
            "\u001b[34mdate\u001b[39m (1): data_transacao\n",
            "\n",
            "\u001b[36mℹ\u001b[39m Use `spec()` to retrieve the full column specification for this data.\n",
            "\u001b[36mℹ\u001b[39m Specify the column types or set `show_col_types = FALSE` to quiet this message.\n"
          ]
        }
      ]
    },
    {
      "cell_type": "code",
      "source": [
        "clientes <- read_csv(\"/content/clientes.csv\")"
      ],
      "metadata": {
        "colab": {
          "base_uri": "https://localhost:8080/"
        },
        "id": "JEA7f5Chyz_u",
        "outputId": "6b2c89c3-0b05-4904-e663-fe153b9c2b15"
      },
      "execution_count": 24,
      "outputs": [
        {
          "output_type": "stream",
          "name": "stderr",
          "text": [
            "\u001b[1mRows: \u001b[22m\u001b[34m1000\u001b[39m \u001b[1mColumns: \u001b[22m\u001b[34m5\u001b[39m\n",
            "\u001b[36m──\u001b[39m \u001b[1mColumn specification\u001b[22m \u001b[36m────────────────────────────────────────────────────────\u001b[39m\n",
            "\u001b[1mDelimiter:\u001b[22m \",\"\n",
            "\u001b[31mchr\u001b[39m  (1): status_fidelidade\n",
            "\u001b[32mdbl\u001b[39m  (3): id_cliente, milhas_acumuladas, gasto_total\n",
            "\u001b[34mdate\u001b[39m (1): data_nascimento\n",
            "\n",
            "\u001b[36mℹ\u001b[39m Use `spec()` to retrieve the full column specification for this data.\n",
            "\u001b[36mℹ\u001b[39m Specify the column types or set `show_col_types = FALSE` to quiet this message.\n"
          ]
        }
      ]
    },
    {
      "cell_type": "code",
      "source": [
        "transacoes_milhas %>% head()"
      ],
      "metadata": {
        "colab": {
          "base_uri": "https://localhost:8080/",
          "height": 286
        },
        "id": "0pxH9xX4zA3m",
        "outputId": "ff8c2e4d-7641-474c-fc29-cfd8c9bcbf7f"
      },
      "execution_count": 25,
      "outputs": [
        {
          "output_type": "display_data",
          "data": {
            "text/html": [
              "<table class=\"dataframe\">\n",
              "<caption>A tibble: 6 × 4</caption>\n",
              "<thead>\n",
              "\t<tr><th scope=col>id_cliente</th><th scope=col>data_venda_milhas</th><th scope=col>milhas_vendidas</th><th scope=col>valor_recebido</th></tr>\n",
              "\t<tr><th scope=col>&lt;dbl&gt;</th><th scope=col>&lt;date&gt;</th><th scope=col>&lt;dbl&gt;</th><th scope=col>&lt;dbl&gt;</th></tr>\n",
              "</thead>\n",
              "<tbody>\n",
              "\t<tr><td>350</td><td>2023-02-23</td><td>4131</td><td> 536.88</td></tr>\n",
              "\t<tr><td>109</td><td>2022-09-26</td><td>6525</td><td> 113.70</td></tr>\n",
              "\t<tr><td>376</td><td>2022-06-12</td><td>9955</td><td> 466.73</td></tr>\n",
              "\t<tr><td>443</td><td>2022-12-17</td><td>5913</td><td>1489.56</td></tr>\n",
              "\t<tr><td>647</td><td>2023-10-06</td><td> 284</td><td>1908.38</td></tr>\n",
              "\t<tr><td>818</td><td>2023-05-29</td><td>4225</td><td>1339.10</td></tr>\n",
              "</tbody>\n",
              "</table>\n"
            ],
            "text/markdown": "\nA tibble: 6 × 4\n\n| id_cliente &lt;dbl&gt; | data_venda_milhas &lt;date&gt; | milhas_vendidas &lt;dbl&gt; | valor_recebido &lt;dbl&gt; |\n|---|---|---|---|\n| 350 | 2023-02-23 | 4131 |  536.88 |\n| 109 | 2022-09-26 | 6525 |  113.70 |\n| 376 | 2022-06-12 | 9955 |  466.73 |\n| 443 | 2022-12-17 | 5913 | 1489.56 |\n| 647 | 2023-10-06 |  284 | 1908.38 |\n| 818 | 2023-05-29 | 4225 | 1339.10 |\n\n",
            "text/latex": "A tibble: 6 × 4\n\\begin{tabular}{llll}\n id\\_cliente & data\\_venda\\_milhas & milhas\\_vendidas & valor\\_recebido\\\\\n <dbl> & <date> & <dbl> & <dbl>\\\\\n\\hline\n\t 350 & 2023-02-23 & 4131 &  536.88\\\\\n\t 109 & 2022-09-26 & 6525 &  113.70\\\\\n\t 376 & 2022-06-12 & 9955 &  466.73\\\\\n\t 443 & 2022-12-17 & 5913 & 1489.56\\\\\n\t 647 & 2023-10-06 &  284 & 1908.38\\\\\n\t 818 & 2023-05-29 & 4225 & 1339.10\\\\\n\\end{tabular}\n",
            "text/plain": [
              "  id_cliente data_venda_milhas milhas_vendidas valor_recebido\n",
              "1 350        2023-02-23        4131             536.88       \n",
              "2 109        2022-09-26        6525             113.70       \n",
              "3 376        2022-06-12        9955             466.73       \n",
              "4 443        2022-12-17        5913            1489.56       \n",
              "5 647        2023-10-06         284            1908.38       \n",
              "6 818        2023-05-29        4225            1339.10       "
            ]
          },
          "metadata": {}
        }
      ]
    },
    {
      "cell_type": "code",
      "source": [
        "transacoes_passagens %>% head()"
      ],
      "metadata": {
        "colab": {
          "base_uri": "https://localhost:8080/",
          "height": 286
        },
        "id": "niQHQP-NzagR",
        "outputId": "c662a70a-6e6c-4a79-dc4d-b27aa87443f5"
      },
      "execution_count": 26,
      "outputs": [
        {
          "output_type": "display_data",
          "data": {
            "text/html": [
              "<table class=\"dataframe\">\n",
              "<caption>A tibble: 6 × 6</caption>\n",
              "<thead>\n",
              "\t<tr><th scope=col>id_cliente</th><th scope=col>data_transacao</th><th scope=col>milhas_utilizadas</th><th scope=col>valor_pago</th><th scope=col>classe_voo</th><th scope=col>numero_voo</th></tr>\n",
              "\t<tr><th scope=col>&lt;dbl&gt;</th><th scope=col>&lt;date&gt;</th><th scope=col>&lt;dbl&gt;</th><th scope=col>&lt;dbl&gt;</th><th scope=col>&lt;chr&gt;</th><th scope=col>&lt;dbl&gt;</th></tr>\n",
              "</thead>\n",
              "<tbody>\n",
              "\t<tr><td>507</td><td>2023-01-30</td><td>9837</td><td> 424.31</td><td>Economica      </td><td>3705</td></tr>\n",
              "\t<tr><td> 86</td><td>2023-03-07</td><td>6067</td><td> 513.52</td><td>Economica      </td><td>9504</td></tr>\n",
              "\t<tr><td>589</td><td>2022-02-11</td><td>2893</td><td>1320.34</td><td>Primeira Classe</td><td>1695</td></tr>\n",
              "\t<tr><td>774</td><td>2022-09-23</td><td>2274</td><td>1000.44</td><td>Economica      </td><td>2963</td></tr>\n",
              "\t<tr><td>705</td><td>2023-06-08</td><td>6043</td><td>1607.35</td><td>Economica      </td><td>9190</td></tr>\n",
              "\t<tr><td>316</td><td>2023-05-13</td><td>1798</td><td>1802.67</td><td>Executiva      </td><td>6242</td></tr>\n",
              "</tbody>\n",
              "</table>\n"
            ],
            "text/markdown": "\nA tibble: 6 × 6\n\n| id_cliente &lt;dbl&gt; | data_transacao &lt;date&gt; | milhas_utilizadas &lt;dbl&gt; | valor_pago &lt;dbl&gt; | classe_voo &lt;chr&gt; | numero_voo &lt;dbl&gt; |\n|---|---|---|---|---|---|\n| 507 | 2023-01-30 | 9837 |  424.31 | Economica       | 3705 |\n|  86 | 2023-03-07 | 6067 |  513.52 | Economica       | 9504 |\n| 589 | 2022-02-11 | 2893 | 1320.34 | Primeira Classe | 1695 |\n| 774 | 2022-09-23 | 2274 | 1000.44 | Economica       | 2963 |\n| 705 | 2023-06-08 | 6043 | 1607.35 | Economica       | 9190 |\n| 316 | 2023-05-13 | 1798 | 1802.67 | Executiva       | 6242 |\n\n",
            "text/latex": "A tibble: 6 × 6\n\\begin{tabular}{llllll}\n id\\_cliente & data\\_transacao & milhas\\_utilizadas & valor\\_pago & classe\\_voo & numero\\_voo\\\\\n <dbl> & <date> & <dbl> & <dbl> & <chr> & <dbl>\\\\\n\\hline\n\t 507 & 2023-01-30 & 9837 &  424.31 & Economica       & 3705\\\\\n\t  86 & 2023-03-07 & 6067 &  513.52 & Economica       & 9504\\\\\n\t 589 & 2022-02-11 & 2893 & 1320.34 & Primeira Classe & 1695\\\\\n\t 774 & 2022-09-23 & 2274 & 1000.44 & Economica       & 2963\\\\\n\t 705 & 2023-06-08 & 6043 & 1607.35 & Economica       & 9190\\\\\n\t 316 & 2023-05-13 & 1798 & 1802.67 & Executiva       & 6242\\\\\n\\end{tabular}\n",
            "text/plain": [
              "  id_cliente data_transacao milhas_utilizadas valor_pago classe_voo     \n",
              "1 507        2023-01-30     9837               424.31    Economica      \n",
              "2  86        2023-03-07     6067               513.52    Economica      \n",
              "3 589        2022-02-11     2893              1320.34    Primeira Classe\n",
              "4 774        2022-09-23     2274              1000.44    Economica      \n",
              "5 705        2023-06-08     6043              1607.35    Economica      \n",
              "6 316        2023-05-13     1798              1802.67    Executiva      \n",
              "  numero_voo\n",
              "1 3705      \n",
              "2 9504      \n",
              "3 1695      \n",
              "4 2963      \n",
              "5 9190      \n",
              "6 6242      "
            ]
          },
          "metadata": {}
        }
      ]
    },
    {
      "cell_type": "code",
      "source": [
        "transacoes_milhas %>% glimpse()"
      ],
      "metadata": {
        "colab": {
          "base_uri": "https://localhost:8080/"
        },
        "id": "mJwjVx2ozlBe",
        "outputId": "9ac784ce-fe42-4b2c-ab2c-4819c2071786"
      },
      "execution_count": 27,
      "outputs": [
        {
          "output_type": "stream",
          "name": "stdout",
          "text": [
            "Rows: 1,000\n",
            "Columns: 4\n",
            "$ id_cliente        \u001b[3m\u001b[90m<dbl>\u001b[39m\u001b[23m 350, 109, 376, 443, 647, 818, 32, 770, 707, 842, 170…\n",
            "$ data_venda_milhas \u001b[3m\u001b[90m<date>\u001b[39m\u001b[23m 2023-02-23, 2022-09-26, 2022-06-12, 2022-12-17, 202…\n",
            "$ milhas_vendidas   \u001b[3m\u001b[90m<dbl>\u001b[39m\u001b[23m 4131, 6525, 9955, 5913, 284, 4225, 2854, 6127, 5091,…\n",
            "$ valor_recebido    \u001b[3m\u001b[90m<dbl>\u001b[39m\u001b[23m 536.88, 113.70, 466.73, 1489.56, 1908.38, 1339.10, 1…\n"
          ]
        }
      ]
    },
    {
      "cell_type": "code",
      "source": [
        "clientes %>% glimpse()"
      ],
      "metadata": {
        "colab": {
          "base_uri": "https://localhost:8080/"
        },
        "id": "v67vHeewz0tH",
        "outputId": "3e252e78-4e05-4a42-fcbf-662bb5be7c5b"
      },
      "execution_count": 28,
      "outputs": [
        {
          "output_type": "stream",
          "name": "stdout",
          "text": [
            "Rows: 1,000\n",
            "Columns: 5\n",
            "$ id_cliente        \u001b[3m\u001b[90m<dbl>\u001b[39m\u001b[23m 1, 2, 3, 4, 5, 6, 7, 8, 9, 10, 11, 12, 13, 14, 15, 1…\n",
            "$ data_nascimento   \u001b[3m\u001b[90m<date>\u001b[39m\u001b[23m 1971-01-09, 1996-08-11, 1994-07-18, 2003-03-08, 196…\n",
            "$ status_fidelidade \u001b[3m\u001b[90m<chr>\u001b[39m\u001b[23m \"Diamante\", \"Diamante\", \"Diamante\", \"Prata\", \"Diaman…\n",
            "$ milhas_acumuladas \u001b[3m\u001b[90m<dbl>\u001b[39m\u001b[23m 2833, 8864, 917, 8773, 1492, 6270, 2583, 8263, 8914,…\n",
            "$ gasto_total       \u001b[3m\u001b[90m<dbl>\u001b[39m\u001b[23m 1906.69, 493.58, 519.16, 1256.60, 410.37, 250.93, 92…\n"
          ]
        }
      ]
    },
    {
      "cell_type": "code",
      "source": [
        "transacoes_milhas %>% glimpse()"
      ],
      "metadata": {
        "colab": {
          "base_uri": "https://localhost:8080/"
        },
        "id": "2ihBb0zi1HLc",
        "outputId": "19517595-b471-411f-bff7-23a90ca2a02e"
      },
      "execution_count": 29,
      "outputs": [
        {
          "output_type": "stream",
          "name": "stdout",
          "text": [
            "Rows: 1,000\n",
            "Columns: 4\n",
            "$ id_cliente        \u001b[3m\u001b[90m<dbl>\u001b[39m\u001b[23m 350, 109, 376, 443, 647, 818, 32, 770, 707, 842, 170…\n",
            "$ data_venda_milhas \u001b[3m\u001b[90m<date>\u001b[39m\u001b[23m 2023-02-23, 2022-09-26, 2022-06-12, 2022-12-17, 202…\n",
            "$ milhas_vendidas   \u001b[3m\u001b[90m<dbl>\u001b[39m\u001b[23m 4131, 6525, 9955, 5913, 284, 4225, 2854, 6127, 5091,…\n",
            "$ valor_recebido    \u001b[3m\u001b[90m<dbl>\u001b[39m\u001b[23m 536.88, 113.70, 466.73, 1489.56, 1908.38, 1339.10, 1…\n"
          ]
        }
      ]
    },
    {
      "cell_type": "code",
      "source": [
        "transacoes_passagens %>% glimpse()"
      ],
      "metadata": {
        "colab": {
          "base_uri": "https://localhost:8080/"
        },
        "id": "-f-Kg9mo1OCK",
        "outputId": "e20a6877-68be-4f61-fe53-39899ed64144"
      },
      "execution_count": 30,
      "outputs": [
        {
          "output_type": "stream",
          "name": "stdout",
          "text": [
            "Rows: 1,000\n",
            "Columns: 6\n",
            "$ id_cliente        \u001b[3m\u001b[90m<dbl>\u001b[39m\u001b[23m 507, 86, 589, 774, 705, 316, 801, 149, 11, 154, 363,…\n",
            "$ data_transacao    \u001b[3m\u001b[90m<date>\u001b[39m\u001b[23m 2023-01-30, 2023-03-07, 2022-02-11, 2022-09-23, 202…\n",
            "$ milhas_utilizadas \u001b[3m\u001b[90m<dbl>\u001b[39m\u001b[23m 9837, 6067, 2893, 2274, 6043, 1798, 4354, 6976, 6344…\n",
            "$ valor_pago        \u001b[3m\u001b[90m<dbl>\u001b[39m\u001b[23m 424.31, 513.52, 1320.34, 1000.44, 1607.35, 1802.67, …\n",
            "$ classe_voo        \u001b[3m\u001b[90m<chr>\u001b[39m\u001b[23m \"Economica\", \"Economica\", \"Primeira Classe\", \"Econom…\n",
            "$ numero_voo        \u001b[3m\u001b[90m<dbl>\u001b[39m\u001b[23m 3705, 9504, 1695, 2963, 9190, 6242, 2415, 6747, 3509…\n"
          ]
        }
      ]
    },
    {
      "cell_type": "code",
      "source": [
        "transacoes_passagens <- transacoes_passagens %>% select(id_cliente, data_transacao, milhas_utilizadas, valor_pago)"
      ],
      "metadata": {
        "id": "SjmXqMgn1Y7Y"
      },
      "execution_count": 31,
      "outputs": []
    },
    {
      "cell_type": "code",
      "source": [
        "transacoes_passagens %>% glimpse()"
      ],
      "metadata": {
        "colab": {
          "base_uri": "https://localhost:8080/"
        },
        "id": "9XeylnwR1krB",
        "outputId": "043ed631-090a-46c2-d099-7fc4ca553339"
      },
      "execution_count": 32,
      "outputs": [
        {
          "output_type": "stream",
          "name": "stdout",
          "text": [
            "Rows: 1,000\n",
            "Columns: 4\n",
            "$ id_cliente        \u001b[3m\u001b[90m<dbl>\u001b[39m\u001b[23m 507, 86, 589, 774, 705, 316, 801, 149, 11, 154, 363,…\n",
            "$ data_transacao    \u001b[3m\u001b[90m<date>\u001b[39m\u001b[23m 2023-01-30, 2023-03-07, 2022-02-11, 2022-09-23, 202…\n",
            "$ milhas_utilizadas \u001b[3m\u001b[90m<dbl>\u001b[39m\u001b[23m 9837, 6067, 2893, 2274, 6043, 1798, 4354, 6976, 6344…\n",
            "$ valor_pago        \u001b[3m\u001b[90m<dbl>\u001b[39m\u001b[23m 424.31, 513.52, 1320.34, 1000.44, 1607.35, 1802.67, …\n"
          ]
        }
      ]
    },
    {
      "cell_type": "code",
      "source": [
        "transacoes_milhas <- transacoes_milhas %>% filter(data_venda_milhas >= \"2022-01-01\" & data_venda_milhas <= \"2022-12-31\")"
      ],
      "metadata": {
        "id": "Ziv9J7kH1x_w"
      },
      "execution_count": 33,
      "outputs": []
    },
    {
      "cell_type": "code",
      "source": [
        "transacoes_milhas %>% glimpse()"
      ],
      "metadata": {
        "colab": {
          "base_uri": "https://localhost:8080/"
        },
        "id": "76IV5Crs2KYo",
        "outputId": "e8f041fd-9c83-42e5-ed09-1942ab5922e6"
      },
      "execution_count": 34,
      "outputs": [
        {
          "output_type": "stream",
          "name": "stdout",
          "text": [
            "Rows: 485\n",
            "Columns: 4\n",
            "$ id_cliente        \u001b[3m\u001b[90m<dbl>\u001b[39m\u001b[23m 109, 376, 443, 32, 842, 609, 391, 600, 101, 761, 959…\n",
            "$ data_venda_milhas \u001b[3m\u001b[90m<date>\u001b[39m\u001b[23m 2022-09-26, 2022-06-12, 2022-12-17, 2022-12-06, 202…\n",
            "$ milhas_vendidas   \u001b[3m\u001b[90m<dbl>\u001b[39m\u001b[23m 6525, 9955, 5913, 2854, 5686, 937, 1190, 8295, 635, …\n",
            "$ valor_recebido    \u001b[3m\u001b[90m<dbl>\u001b[39m\u001b[23m 113.70, 466.73, 1489.56, 1983.85, 191.69, 183.50, 47…\n"
          ]
        }
      ]
    },
    {
      "cell_type": "code",
      "source": [
        "transacoes_passagens <- transacoes_passagens %>% filter(data_transacao >= \"2022-01-01\" & data_transacao <= \"2022-12-31\")"
      ],
      "metadata": {
        "id": "Yv5HwlAS2XZR"
      },
      "execution_count": 35,
      "outputs": []
    },
    {
      "cell_type": "code",
      "source": [
        "transacoes_passagens %>% glimpse()"
      ],
      "metadata": {
        "colab": {
          "base_uri": "https://localhost:8080/"
        },
        "id": "oC3QrWrT2dCS",
        "outputId": "bf6f14a4-e754-4f98-d842-39368ef054ac"
      },
      "execution_count": 36,
      "outputs": [
        {
          "output_type": "stream",
          "name": "stdout",
          "text": [
            "Rows: 502\n",
            "Columns: 4\n",
            "$ id_cliente        \u001b[3m\u001b[90m<dbl>\u001b[39m\u001b[23m 589, 774, 149, 620, 96, 449, 693, 242, 358, 317, 633…\n",
            "$ data_transacao    \u001b[3m\u001b[90m<date>\u001b[39m\u001b[23m 2022-02-11, 2022-09-23, 2022-11-07, 2022-08-12, 202…\n",
            "$ milhas_utilizadas \u001b[3m\u001b[90m<dbl>\u001b[39m\u001b[23m 2893, 2274, 6976, 6479, 9444, 8102, 5335, 7139, 7280…\n",
            "$ valor_pago        \u001b[3m\u001b[90m<dbl>\u001b[39m\u001b[23m 1320.34, 1000.44, 309.56, 1869.74, 267.63, 268.38, 1…\n"
          ]
        }
      ]
    },
    {
      "cell_type": "code",
      "source": [
        "transacoes_passagens <- transacoes_passagens %>% mutate(custo_por_milha = valor_pago / milhas_utilizadas)"
      ],
      "metadata": {
        "id": "gpbLw6OW2fHF"
      },
      "execution_count": 37,
      "outputs": []
    },
    {
      "cell_type": "code",
      "source": [
        "transacoes_passagens %>% glimpse()"
      ],
      "metadata": {
        "colab": {
          "base_uri": "https://localhost:8080/"
        },
        "id": "471Zs1en30m8",
        "outputId": "68078dd0-8eae-45a5-d3cc-6d04cd8a1fad"
      },
      "execution_count": 38,
      "outputs": [
        {
          "output_type": "stream",
          "name": "stdout",
          "text": [
            "Rows: 502\n",
            "Columns: 5\n",
            "$ id_cliente        \u001b[3m\u001b[90m<dbl>\u001b[39m\u001b[23m 589, 774, 149, 620, 96, 449, 693, 242, 358, 317, 633…\n",
            "$ data_transacao    \u001b[3m\u001b[90m<date>\u001b[39m\u001b[23m 2022-02-11, 2022-09-23, 2022-11-07, 2022-08-12, 202…\n",
            "$ milhas_utilizadas \u001b[3m\u001b[90m<dbl>\u001b[39m\u001b[23m 2893, 2274, 6976, 6479, 9444, 8102, 5335, 7139, 7280…\n",
            "$ valor_pago        \u001b[3m\u001b[90m<dbl>\u001b[39m\u001b[23m 1320.34, 1000.44, 309.56, 1869.74, 267.63, 268.38, 1…\n",
            "$ custo_por_milha   \u001b[3m\u001b[90m<dbl>\u001b[39m\u001b[23m 0.45639129, 0.43994723, 0.04437500, 0.28858466, 0.02…\n"
          ]
        }
      ]
    },
    {
      "cell_type": "code",
      "source": [
        "media_milhas <- transacoes_passagens %>% group_by(id_cliente) %>% summarize(media_milhas = mean(milhas_utilizadas))"
      ],
      "metadata": {
        "id": "OrsdhFns4F0o"
      },
      "execution_count": 39,
      "outputs": []
    },
    {
      "cell_type": "code",
      "source": [
        "media_milhas %>% head()"
      ],
      "metadata": {
        "colab": {
          "base_uri": "https://localhost:8080/",
          "height": 286
        },
        "id": "whUWE3nF4ues",
        "outputId": "ce7dc0ba-217e-4622-a682-02c0f38b68d1"
      },
      "execution_count": 40,
      "outputs": [
        {
          "output_type": "display_data",
          "data": {
            "text/html": [
              "<table class=\"dataframe\">\n",
              "<caption>A tibble: 6 × 2</caption>\n",
              "<thead>\n",
              "\t<tr><th scope=col>id_cliente</th><th scope=col>media_milhas</th></tr>\n",
              "\t<tr><th scope=col>&lt;dbl&gt;</th><th scope=col>&lt;dbl&gt;</th></tr>\n",
              "</thead>\n",
              "<tbody>\n",
              "\t<tr><td> 3</td><td>1023.0</td></tr>\n",
              "\t<tr><td> 7</td><td>7074.5</td></tr>\n",
              "\t<tr><td>10</td><td>6537.0</td></tr>\n",
              "\t<tr><td>12</td><td>9312.0</td></tr>\n",
              "\t<tr><td>13</td><td>4123.0</td></tr>\n",
              "\t<tr><td>15</td><td>7541.0</td></tr>\n",
              "</tbody>\n",
              "</table>\n"
            ],
            "text/markdown": "\nA tibble: 6 × 2\n\n| id_cliente &lt;dbl&gt; | media_milhas &lt;dbl&gt; |\n|---|---|\n|  3 | 1023.0 |\n|  7 | 7074.5 |\n| 10 | 6537.0 |\n| 12 | 9312.0 |\n| 13 | 4123.0 |\n| 15 | 7541.0 |\n\n",
            "text/latex": "A tibble: 6 × 2\n\\begin{tabular}{ll}\n id\\_cliente & media\\_milhas\\\\\n <dbl> & <dbl>\\\\\n\\hline\n\t  3 & 1023.0\\\\\n\t  7 & 7074.5\\\\\n\t 10 & 6537.0\\\\\n\t 12 & 9312.0\\\\\n\t 13 & 4123.0\\\\\n\t 15 & 7541.0\\\\\n\\end{tabular}\n",
            "text/plain": [
              "  id_cliente media_milhas\n",
              "1  3         1023.0      \n",
              "2  7         7074.5      \n",
              "3 10         6537.0      \n",
              "4 12         9312.0      \n",
              "5 13         4123.0      \n",
              "6 15         7541.0      "
            ]
          },
          "metadata": {}
        }
      ]
    },
    {
      "cell_type": "code",
      "source": [
        "transacoes_passagens %>% head()"
      ],
      "metadata": {
        "colab": {
          "base_uri": "https://localhost:8080/",
          "height": 286
        },
        "id": "Y06VLc_xigs6",
        "outputId": "48c5a4d6-d429-4333-f917-f84aa9ecee08"
      },
      "execution_count": 41,
      "outputs": [
        {
          "output_type": "display_data",
          "data": {
            "text/html": [
              "<table class=\"dataframe\">\n",
              "<caption>A tibble: 6 × 5</caption>\n",
              "<thead>\n",
              "\t<tr><th scope=col>id_cliente</th><th scope=col>data_transacao</th><th scope=col>milhas_utilizadas</th><th scope=col>valor_pago</th><th scope=col>custo_por_milha</th></tr>\n",
              "\t<tr><th scope=col>&lt;dbl&gt;</th><th scope=col>&lt;date&gt;</th><th scope=col>&lt;dbl&gt;</th><th scope=col>&lt;dbl&gt;</th><th scope=col>&lt;dbl&gt;</th></tr>\n",
              "</thead>\n",
              "<tbody>\n",
              "\t<tr><td>589</td><td>2022-02-11</td><td>2893</td><td>1320.34</td><td>0.45639129</td></tr>\n",
              "\t<tr><td>774</td><td>2022-09-23</td><td>2274</td><td>1000.44</td><td>0.43994723</td></tr>\n",
              "\t<tr><td>149</td><td>2022-11-07</td><td>6976</td><td> 309.56</td><td>0.04437500</td></tr>\n",
              "\t<tr><td>620</td><td>2022-08-12</td><td>6479</td><td>1869.74</td><td>0.28858466</td></tr>\n",
              "\t<tr><td> 96</td><td>2022-05-23</td><td>9444</td><td> 267.63</td><td>0.02833863</td></tr>\n",
              "\t<tr><td>449</td><td>2022-10-16</td><td>8102</td><td> 268.38</td><td>0.03312515</td></tr>\n",
              "</tbody>\n",
              "</table>\n"
            ],
            "text/markdown": "\nA tibble: 6 × 5\n\n| id_cliente &lt;dbl&gt; | data_transacao &lt;date&gt; | milhas_utilizadas &lt;dbl&gt; | valor_pago &lt;dbl&gt; | custo_por_milha &lt;dbl&gt; |\n|---|---|---|---|---|\n| 589 | 2022-02-11 | 2893 | 1320.34 | 0.45639129 |\n| 774 | 2022-09-23 | 2274 | 1000.44 | 0.43994723 |\n| 149 | 2022-11-07 | 6976 |  309.56 | 0.04437500 |\n| 620 | 2022-08-12 | 6479 | 1869.74 | 0.28858466 |\n|  96 | 2022-05-23 | 9444 |  267.63 | 0.02833863 |\n| 449 | 2022-10-16 | 8102 |  268.38 | 0.03312515 |\n\n",
            "text/latex": "A tibble: 6 × 5\n\\begin{tabular}{lllll}\n id\\_cliente & data\\_transacao & milhas\\_utilizadas & valor\\_pago & custo\\_por\\_milha\\\\\n <dbl> & <date> & <dbl> & <dbl> & <dbl>\\\\\n\\hline\n\t 589 & 2022-02-11 & 2893 & 1320.34 & 0.45639129\\\\\n\t 774 & 2022-09-23 & 2274 & 1000.44 & 0.43994723\\\\\n\t 149 & 2022-11-07 & 6976 &  309.56 & 0.04437500\\\\\n\t 620 & 2022-08-12 & 6479 & 1869.74 & 0.28858466\\\\\n\t  96 & 2022-05-23 & 9444 &  267.63 & 0.02833863\\\\\n\t 449 & 2022-10-16 & 8102 &  268.38 & 0.03312515\\\\\n\\end{tabular}\n",
            "text/plain": [
              "  id_cliente data_transacao milhas_utilizadas valor_pago custo_por_milha\n",
              "1 589        2022-02-11     2893              1320.34    0.45639129     \n",
              "2 774        2022-09-23     2274              1000.44    0.43994723     \n",
              "3 149        2022-11-07     6976               309.56    0.04437500     \n",
              "4 620        2022-08-12     6479              1869.74    0.28858466     \n",
              "5  96        2022-05-23     9444               267.63    0.02833863     \n",
              "6 449        2022-10-16     8102               268.38    0.03312515     "
            ]
          },
          "metadata": {}
        }
      ]
    },
    {
      "cell_type": "code",
      "source": [
        "transacoes_passagens <- transacoes_passagens %>% arrange(data_transacao)"
      ],
      "metadata": {
        "id": "6Ns-pRImisvy"
      },
      "execution_count": 42,
      "outputs": []
    },
    {
      "cell_type": "code",
      "source": [
        "transacoes_passagens %>% head()"
      ],
      "metadata": {
        "colab": {
          "base_uri": "https://localhost:8080/",
          "height": 286
        },
        "id": "uVH7S90Ei2Hv",
        "outputId": "ff6bd3a9-7dcf-4e58-bf82-f94b08512efa"
      },
      "execution_count": 43,
      "outputs": [
        {
          "output_type": "display_data",
          "data": {
            "text/html": [
              "<table class=\"dataframe\">\n",
              "<caption>A tibble: 6 × 5</caption>\n",
              "<thead>\n",
              "\t<tr><th scope=col>id_cliente</th><th scope=col>data_transacao</th><th scope=col>milhas_utilizadas</th><th scope=col>valor_pago</th><th scope=col>custo_por_milha</th></tr>\n",
              "\t<tr><th scope=col>&lt;dbl&gt;</th><th scope=col>&lt;date&gt;</th><th scope=col>&lt;dbl&gt;</th><th scope=col>&lt;dbl&gt;</th><th scope=col>&lt;dbl&gt;</th></tr>\n",
              "</thead>\n",
              "<tbody>\n",
              "\t<tr><td>967</td><td>2022-01-01</td><td>1198</td><td>1217.17</td><td>1.0160017</td></tr>\n",
              "\t<tr><td>747</td><td>2022-01-01</td><td>8451</td><td>1064.09</td><td>0.1259129</td></tr>\n",
              "\t<tr><td>237</td><td>2022-01-01</td><td>7996</td><td>1684.94</td><td>0.2107229</td></tr>\n",
              "\t<tr><td>504</td><td>2022-01-02</td><td>6143</td><td> 692.94</td><td>0.1128016</td></tr>\n",
              "\t<tr><td>840</td><td>2022-01-02</td><td>5267</td><td>1496.54</td><td>0.2841352</td></tr>\n",
              "\t<tr><td>396</td><td>2022-01-02</td><td>1929</td><td> 760.04</td><td>0.3940073</td></tr>\n",
              "</tbody>\n",
              "</table>\n"
            ],
            "text/markdown": "\nA tibble: 6 × 5\n\n| id_cliente &lt;dbl&gt; | data_transacao &lt;date&gt; | milhas_utilizadas &lt;dbl&gt; | valor_pago &lt;dbl&gt; | custo_por_milha &lt;dbl&gt; |\n|---|---|---|---|---|\n| 967 | 2022-01-01 | 1198 | 1217.17 | 1.0160017 |\n| 747 | 2022-01-01 | 8451 | 1064.09 | 0.1259129 |\n| 237 | 2022-01-01 | 7996 | 1684.94 | 0.2107229 |\n| 504 | 2022-01-02 | 6143 |  692.94 | 0.1128016 |\n| 840 | 2022-01-02 | 5267 | 1496.54 | 0.2841352 |\n| 396 | 2022-01-02 | 1929 |  760.04 | 0.3940073 |\n\n",
            "text/latex": "A tibble: 6 × 5\n\\begin{tabular}{lllll}\n id\\_cliente & data\\_transacao & milhas\\_utilizadas & valor\\_pago & custo\\_por\\_milha\\\\\n <dbl> & <date> & <dbl> & <dbl> & <dbl>\\\\\n\\hline\n\t 967 & 2022-01-01 & 1198 & 1217.17 & 1.0160017\\\\\n\t 747 & 2022-01-01 & 8451 & 1064.09 & 0.1259129\\\\\n\t 237 & 2022-01-01 & 7996 & 1684.94 & 0.2107229\\\\\n\t 504 & 2022-01-02 & 6143 &  692.94 & 0.1128016\\\\\n\t 840 & 2022-01-02 & 5267 & 1496.54 & 0.2841352\\\\\n\t 396 & 2022-01-02 & 1929 &  760.04 & 0.3940073\\\\\n\\end{tabular}\n",
            "text/plain": [
              "  id_cliente data_transacao milhas_utilizadas valor_pago custo_por_milha\n",
              "1 967        2022-01-01     1198              1217.17    1.0160017      \n",
              "2 747        2022-01-01     8451              1064.09    0.1259129      \n",
              "3 237        2022-01-01     7996              1684.94    0.2107229      \n",
              "4 504        2022-01-02     6143               692.94    0.1128016      \n",
              "5 840        2022-01-02     5267              1496.54    0.2841352      \n",
              "6 396        2022-01-02     1929               760.04    0.3940073      "
            ]
          },
          "metadata": {}
        }
      ]
    },
    {
      "cell_type": "code",
      "source": [
        "clientes %>% head()"
      ],
      "metadata": {
        "colab": {
          "base_uri": "https://localhost:8080/",
          "height": 286
        },
        "id": "q9XVyDRWjDba",
        "outputId": "81bd101c-d535-4316-bcbc-f6601d4f4a99"
      },
      "execution_count": 44,
      "outputs": [
        {
          "output_type": "display_data",
          "data": {
            "text/html": [
              "<table class=\"dataframe\">\n",
              "<caption>A tibble: 6 × 5</caption>\n",
              "<thead>\n",
              "\t<tr><th scope=col>id_cliente</th><th scope=col>data_nascimento</th><th scope=col>status_fidelidade</th><th scope=col>milhas_acumuladas</th><th scope=col>gasto_total</th></tr>\n",
              "\t<tr><th scope=col>&lt;dbl&gt;</th><th scope=col>&lt;date&gt;</th><th scope=col>&lt;chr&gt;</th><th scope=col>&lt;dbl&gt;</th><th scope=col>&lt;dbl&gt;</th></tr>\n",
              "</thead>\n",
              "<tbody>\n",
              "\t<tr><td>1</td><td>1971-01-09</td><td>Diamante</td><td>2833</td><td>1906.69</td></tr>\n",
              "\t<tr><td>2</td><td>1996-08-11</td><td>Diamante</td><td>8864</td><td> 493.58</td></tr>\n",
              "\t<tr><td>3</td><td>1994-07-18</td><td>Diamante</td><td> 917</td><td> 519.16</td></tr>\n",
              "\t<tr><td>4</td><td>2003-03-08</td><td>Prata   </td><td>8773</td><td>1256.60</td></tr>\n",
              "\t<tr><td>5</td><td>1962-06-05</td><td>Diamante</td><td>1492</td><td> 410.37</td></tr>\n",
              "\t<tr><td>6</td><td>1988-02-08</td><td>Prata   </td><td>6270</td><td> 250.93</td></tr>\n",
              "</tbody>\n",
              "</table>\n"
            ],
            "text/markdown": "\nA tibble: 6 × 5\n\n| id_cliente &lt;dbl&gt; | data_nascimento &lt;date&gt; | status_fidelidade &lt;chr&gt; | milhas_acumuladas &lt;dbl&gt; | gasto_total &lt;dbl&gt; |\n|---|---|---|---|---|\n| 1 | 1971-01-09 | Diamante | 2833 | 1906.69 |\n| 2 | 1996-08-11 | Diamante | 8864 |  493.58 |\n| 3 | 1994-07-18 | Diamante |  917 |  519.16 |\n| 4 | 2003-03-08 | Prata    | 8773 | 1256.60 |\n| 5 | 1962-06-05 | Diamante | 1492 |  410.37 |\n| 6 | 1988-02-08 | Prata    | 6270 |  250.93 |\n\n",
            "text/latex": "A tibble: 6 × 5\n\\begin{tabular}{lllll}\n id\\_cliente & data\\_nascimento & status\\_fidelidade & milhas\\_acumuladas & gasto\\_total\\\\\n <dbl> & <date> & <chr> & <dbl> & <dbl>\\\\\n\\hline\n\t 1 & 1971-01-09 & Diamante & 2833 & 1906.69\\\\\n\t 2 & 1996-08-11 & Diamante & 8864 &  493.58\\\\\n\t 3 & 1994-07-18 & Diamante &  917 &  519.16\\\\\n\t 4 & 2003-03-08 & Prata    & 8773 & 1256.60\\\\\n\t 5 & 1962-06-05 & Diamante & 1492 &  410.37\\\\\n\t 6 & 1988-02-08 & Prata    & 6270 &  250.93\\\\\n\\end{tabular}\n",
            "text/plain": [
              "  id_cliente data_nascimento status_fidelidade milhas_acumuladas gasto_total\n",
              "1 1          1971-01-09      Diamante          2833              1906.69    \n",
              "2 2          1996-08-11      Diamante          8864               493.58    \n",
              "3 3          1994-07-18      Diamante           917               519.16    \n",
              "4 4          2003-03-08      Prata             8773              1256.60    \n",
              "5 5          1962-06-05      Diamante          1492               410.37    \n",
              "6 6          1988-02-08      Prata             6270               250.93    "
            ]
          },
          "metadata": {}
        }
      ]
    },
    {
      "cell_type": "code",
      "source": [
        "transacoes_passagens <- transacoes_passagens %>% left_join(clientes,by=\"id_cliente\")"
      ],
      "metadata": {
        "id": "q7C5PsrWkcmV"
      },
      "execution_count": 45,
      "outputs": []
    },
    {
      "cell_type": "code",
      "source": [
        "transacoes_passagens %>% head()"
      ],
      "metadata": {
        "colab": {
          "base_uri": "https://localhost:8080/",
          "height": 286
        },
        "id": "6zZlFYD0kwAq",
        "outputId": "da78914c-7fe3-4bad-8767-1e794f19b07c"
      },
      "execution_count": 46,
      "outputs": [
        {
          "output_type": "display_data",
          "data": {
            "text/html": [
              "<table class=\"dataframe\">\n",
              "<caption>A tibble: 6 × 9</caption>\n",
              "<thead>\n",
              "\t<tr><th scope=col>id_cliente</th><th scope=col>data_transacao</th><th scope=col>milhas_utilizadas</th><th scope=col>valor_pago</th><th scope=col>custo_por_milha</th><th scope=col>data_nascimento</th><th scope=col>status_fidelidade</th><th scope=col>milhas_acumuladas</th><th scope=col>gasto_total</th></tr>\n",
              "\t<tr><th scope=col>&lt;dbl&gt;</th><th scope=col>&lt;date&gt;</th><th scope=col>&lt;dbl&gt;</th><th scope=col>&lt;dbl&gt;</th><th scope=col>&lt;dbl&gt;</th><th scope=col>&lt;date&gt;</th><th scope=col>&lt;chr&gt;</th><th scope=col>&lt;dbl&gt;</th><th scope=col>&lt;dbl&gt;</th></tr>\n",
              "</thead>\n",
              "<tbody>\n",
              "\t<tr><td>967</td><td>2022-01-01</td><td>1198</td><td>1217.17</td><td>1.0160017</td><td>1963-12-21</td><td>Prata   </td><td>7635</td><td> 710.17</td></tr>\n",
              "\t<tr><td>747</td><td>2022-01-01</td><td>8451</td><td>1064.09</td><td>0.1259129</td><td>1967-04-16</td><td>Diamante</td><td>1952</td><td> 706.99</td></tr>\n",
              "\t<tr><td>237</td><td>2022-01-01</td><td>7996</td><td>1684.94</td><td>0.2107229</td><td>1961-07-17</td><td>Ouro    </td><td>5529</td><td>1002.03</td></tr>\n",
              "\t<tr><td>504</td><td>2022-01-02</td><td>6143</td><td> 692.94</td><td>0.1128016</td><td>1999-02-14</td><td>Diamante</td><td>8871</td><td> 922.06</td></tr>\n",
              "\t<tr><td>840</td><td>2022-01-02</td><td>5267</td><td>1496.54</td><td>0.2841352</td><td>1983-12-04</td><td>Ouro    </td><td>9589</td><td>1987.85</td></tr>\n",
              "\t<tr><td>396</td><td>2022-01-02</td><td>1929</td><td> 760.04</td><td>0.3940073</td><td>1972-06-30</td><td>Diamante</td><td>2142</td><td> 285.24</td></tr>\n",
              "</tbody>\n",
              "</table>\n"
            ],
            "text/markdown": "\nA tibble: 6 × 9\n\n| id_cliente &lt;dbl&gt; | data_transacao &lt;date&gt; | milhas_utilizadas &lt;dbl&gt; | valor_pago &lt;dbl&gt; | custo_por_milha &lt;dbl&gt; | data_nascimento &lt;date&gt; | status_fidelidade &lt;chr&gt; | milhas_acumuladas &lt;dbl&gt; | gasto_total &lt;dbl&gt; |\n|---|---|---|---|---|---|---|---|---|\n| 967 | 2022-01-01 | 1198 | 1217.17 | 1.0160017 | 1963-12-21 | Prata    | 7635 |  710.17 |\n| 747 | 2022-01-01 | 8451 | 1064.09 | 0.1259129 | 1967-04-16 | Diamante | 1952 |  706.99 |\n| 237 | 2022-01-01 | 7996 | 1684.94 | 0.2107229 | 1961-07-17 | Ouro     | 5529 | 1002.03 |\n| 504 | 2022-01-02 | 6143 |  692.94 | 0.1128016 | 1999-02-14 | Diamante | 8871 |  922.06 |\n| 840 | 2022-01-02 | 5267 | 1496.54 | 0.2841352 | 1983-12-04 | Ouro     | 9589 | 1987.85 |\n| 396 | 2022-01-02 | 1929 |  760.04 | 0.3940073 | 1972-06-30 | Diamante | 2142 |  285.24 |\n\n",
            "text/latex": "A tibble: 6 × 9\n\\begin{tabular}{lllllllll}\n id\\_cliente & data\\_transacao & milhas\\_utilizadas & valor\\_pago & custo\\_por\\_milha & data\\_nascimento & status\\_fidelidade & milhas\\_acumuladas & gasto\\_total\\\\\n <dbl> & <date> & <dbl> & <dbl> & <dbl> & <date> & <chr> & <dbl> & <dbl>\\\\\n\\hline\n\t 967 & 2022-01-01 & 1198 & 1217.17 & 1.0160017 & 1963-12-21 & Prata    & 7635 &  710.17\\\\\n\t 747 & 2022-01-01 & 8451 & 1064.09 & 0.1259129 & 1967-04-16 & Diamante & 1952 &  706.99\\\\\n\t 237 & 2022-01-01 & 7996 & 1684.94 & 0.2107229 & 1961-07-17 & Ouro     & 5529 & 1002.03\\\\\n\t 504 & 2022-01-02 & 6143 &  692.94 & 0.1128016 & 1999-02-14 & Diamante & 8871 &  922.06\\\\\n\t 840 & 2022-01-02 & 5267 & 1496.54 & 0.2841352 & 1983-12-04 & Ouro     & 9589 & 1987.85\\\\\n\t 396 & 2022-01-02 & 1929 &  760.04 & 0.3940073 & 1972-06-30 & Diamante & 2142 &  285.24\\\\\n\\end{tabular}\n",
            "text/plain": [
              "  id_cliente data_transacao milhas_utilizadas valor_pago custo_por_milha\n",
              "1 967        2022-01-01     1198              1217.17    1.0160017      \n",
              "2 747        2022-01-01     8451              1064.09    0.1259129      \n",
              "3 237        2022-01-01     7996              1684.94    0.2107229      \n",
              "4 504        2022-01-02     6143               692.94    0.1128016      \n",
              "5 840        2022-01-02     5267              1496.54    0.2841352      \n",
              "6 396        2022-01-02     1929               760.04    0.3940073      \n",
              "  data_nascimento status_fidelidade milhas_acumuladas gasto_total\n",
              "1 1963-12-21      Prata             7635               710.17    \n",
              "2 1967-04-16      Diamante          1952               706.99    \n",
              "3 1961-07-17      Ouro              5529              1002.03    \n",
              "4 1999-02-14      Diamante          8871               922.06    \n",
              "5 1983-12-04      Ouro              9589              1987.85    \n",
              "6 1972-06-30      Diamante          2142               285.24    "
            ]
          },
          "metadata": {}
        }
      ]
    },
    {
      "cell_type": "code",
      "source": [
        "transacoes_passagens <- transacoes_passagens %>% rename(\n",
        "    Data_Compra_Passagem = data_transacao,\n",
        "    Milhas_Utilizadas = milhas_utilizadas,\n",
        "    Valor_Pago = valor_pago,\n",
        "    Custo_Por_Milha = custo_por_milha,\n",
        "    Data_Nascimento = data_nascimento,\n",
        "    Status_Fidelidade = status_fidelidade,\n",
        "    Milhas_Acumuladas = milhas_acumuladas,\n",
        "    Gasto_Total = gasto_total\n",
        ")"
      ],
      "metadata": {
        "id": "9geZH_oul-OA"
      },
      "execution_count": 48,
      "outputs": []
    },
    {
      "cell_type": "code",
      "source": [
        "transacoes_passagens %>% head()"
      ],
      "metadata": {
        "colab": {
          "base_uri": "https://localhost:8080/",
          "height": 306
        },
        "id": "PK2UcMYtmeGg",
        "outputId": "df9d6354-7189-4506-d861-bd8ab529eb02"
      },
      "execution_count": 49,
      "outputs": [
        {
          "output_type": "display_data",
          "data": {
            "text/html": [
              "<table class=\"dataframe\">\n",
              "<caption>A tibble: 6 × 9</caption>\n",
              "<thead>\n",
              "\t<tr><th scope=col>id_cliente</th><th scope=col>Data_Compra_Passagem</th><th scope=col>Milhas_Utilizadas</th><th scope=col>Valor_Pago</th><th scope=col>Custo_Por_Milha</th><th scope=col>Data_Nascimento</th><th scope=col>Status_Fidelidade</th><th scope=col>Milhas_Acumuladas</th><th scope=col>Gasto_Total</th></tr>\n",
              "\t<tr><th scope=col>&lt;dbl&gt;</th><th scope=col>&lt;date&gt;</th><th scope=col>&lt;dbl&gt;</th><th scope=col>&lt;dbl&gt;</th><th scope=col>&lt;dbl&gt;</th><th scope=col>&lt;date&gt;</th><th scope=col>&lt;chr&gt;</th><th scope=col>&lt;dbl&gt;</th><th scope=col>&lt;dbl&gt;</th></tr>\n",
              "</thead>\n",
              "<tbody>\n",
              "\t<tr><td>967</td><td>2022-01-01</td><td>1198</td><td>1217.17</td><td>1.0160017</td><td>1963-12-21</td><td>Prata   </td><td>7635</td><td> 710.17</td></tr>\n",
              "\t<tr><td>747</td><td>2022-01-01</td><td>8451</td><td>1064.09</td><td>0.1259129</td><td>1967-04-16</td><td>Diamante</td><td>1952</td><td> 706.99</td></tr>\n",
              "\t<tr><td>237</td><td>2022-01-01</td><td>7996</td><td>1684.94</td><td>0.2107229</td><td>1961-07-17</td><td>Ouro    </td><td>5529</td><td>1002.03</td></tr>\n",
              "\t<tr><td>504</td><td>2022-01-02</td><td>6143</td><td> 692.94</td><td>0.1128016</td><td>1999-02-14</td><td>Diamante</td><td>8871</td><td> 922.06</td></tr>\n",
              "\t<tr><td>840</td><td>2022-01-02</td><td>5267</td><td>1496.54</td><td>0.2841352</td><td>1983-12-04</td><td>Ouro    </td><td>9589</td><td>1987.85</td></tr>\n",
              "\t<tr><td>396</td><td>2022-01-02</td><td>1929</td><td> 760.04</td><td>0.3940073</td><td>1972-06-30</td><td>Diamante</td><td>2142</td><td> 285.24</td></tr>\n",
              "</tbody>\n",
              "</table>\n"
            ],
            "text/markdown": "\nA tibble: 6 × 9\n\n| id_cliente &lt;dbl&gt; | Data_Compra_Passagem &lt;date&gt; | Milhas_Utilizadas &lt;dbl&gt; | Valor_Pago &lt;dbl&gt; | Custo_Por_Milha &lt;dbl&gt; | Data_Nascimento &lt;date&gt; | Status_Fidelidade &lt;chr&gt; | Milhas_Acumuladas &lt;dbl&gt; | Gasto_Total &lt;dbl&gt; |\n|---|---|---|---|---|---|---|---|---|\n| 967 | 2022-01-01 | 1198 | 1217.17 | 1.0160017 | 1963-12-21 | Prata    | 7635 |  710.17 |\n| 747 | 2022-01-01 | 8451 | 1064.09 | 0.1259129 | 1967-04-16 | Diamante | 1952 |  706.99 |\n| 237 | 2022-01-01 | 7996 | 1684.94 | 0.2107229 | 1961-07-17 | Ouro     | 5529 | 1002.03 |\n| 504 | 2022-01-02 | 6143 |  692.94 | 0.1128016 | 1999-02-14 | Diamante | 8871 |  922.06 |\n| 840 | 2022-01-02 | 5267 | 1496.54 | 0.2841352 | 1983-12-04 | Ouro     | 9589 | 1987.85 |\n| 396 | 2022-01-02 | 1929 |  760.04 | 0.3940073 | 1972-06-30 | Diamante | 2142 |  285.24 |\n\n",
            "text/latex": "A tibble: 6 × 9\n\\begin{tabular}{lllllllll}\n id\\_cliente & Data\\_Compra\\_Passagem & Milhas\\_Utilizadas & Valor\\_Pago & Custo\\_Por\\_Milha & Data\\_Nascimento & Status\\_Fidelidade & Milhas\\_Acumuladas & Gasto\\_Total\\\\\n <dbl> & <date> & <dbl> & <dbl> & <dbl> & <date> & <chr> & <dbl> & <dbl>\\\\\n\\hline\n\t 967 & 2022-01-01 & 1198 & 1217.17 & 1.0160017 & 1963-12-21 & Prata    & 7635 &  710.17\\\\\n\t 747 & 2022-01-01 & 8451 & 1064.09 & 0.1259129 & 1967-04-16 & Diamante & 1952 &  706.99\\\\\n\t 237 & 2022-01-01 & 7996 & 1684.94 & 0.2107229 & 1961-07-17 & Ouro     & 5529 & 1002.03\\\\\n\t 504 & 2022-01-02 & 6143 &  692.94 & 0.1128016 & 1999-02-14 & Diamante & 8871 &  922.06\\\\\n\t 840 & 2022-01-02 & 5267 & 1496.54 & 0.2841352 & 1983-12-04 & Ouro     & 9589 & 1987.85\\\\\n\t 396 & 2022-01-02 & 1929 &  760.04 & 0.3940073 & 1972-06-30 & Diamante & 2142 &  285.24\\\\\n\\end{tabular}\n",
            "text/plain": [
              "  id_cliente Data_Compra_Passagem Milhas_Utilizadas Valor_Pago Custo_Por_Milha\n",
              "1 967        2022-01-01           1198              1217.17    1.0160017      \n",
              "2 747        2022-01-01           8451              1064.09    0.1259129      \n",
              "3 237        2022-01-01           7996              1684.94    0.2107229      \n",
              "4 504        2022-01-02           6143               692.94    0.1128016      \n",
              "5 840        2022-01-02           5267              1496.54    0.2841352      \n",
              "6 396        2022-01-02           1929               760.04    0.3940073      \n",
              "  Data_Nascimento Status_Fidelidade Milhas_Acumuladas Gasto_Total\n",
              "1 1963-12-21      Prata             7635               710.17    \n",
              "2 1967-04-16      Diamante          1952               706.99    \n",
              "3 1961-07-17      Ouro              5529              1002.03    \n",
              "4 1999-02-14      Diamante          8871               922.06    \n",
              "5 1983-12-04      Ouro              9589              1987.85    \n",
              "6 1972-06-30      Diamante          2142               285.24    "
            ]
          },
          "metadata": {}
        }
      ]
    },
    {
      "cell_type": "code",
      "source": [
        "transacoes_passagens %>% count(id_cliente) %>% rename(Total_Compras=n) %>% arrange(desc(Total_Compras)) %>% head()"
      ],
      "metadata": {
        "colab": {
          "base_uri": "https://localhost:8080/",
          "height": 286
        },
        "id": "YHDmmAPrnPYf",
        "outputId": "731e6337-1199-40e3-b6a2-9e72697af0a3"
      },
      "execution_count": 51,
      "outputs": [
        {
          "output_type": "display_data",
          "data": {
            "text/html": [
              "<table class=\"dataframe\">\n",
              "<caption>A tibble: 6 × 2</caption>\n",
              "<thead>\n",
              "\t<tr><th scope=col>id_cliente</th><th scope=col>Total_Compras</th></tr>\n",
              "\t<tr><th scope=col>&lt;dbl&gt;</th><th scope=col>&lt;int&gt;</th></tr>\n",
              "</thead>\n",
              "<tbody>\n",
              "\t<tr><td>586</td><td>5</td></tr>\n",
              "\t<tr><td>544</td><td>4</td></tr>\n",
              "\t<tr><td>861</td><td>4</td></tr>\n",
              "\t<tr><td>175</td><td>3</td></tr>\n",
              "\t<tr><td>207</td><td>3</td></tr>\n",
              "\t<tr><td>239</td><td>3</td></tr>\n",
              "</tbody>\n",
              "</table>\n"
            ],
            "text/markdown": "\nA tibble: 6 × 2\n\n| id_cliente &lt;dbl&gt; | Total_Compras &lt;int&gt; |\n|---|---|\n| 586 | 5 |\n| 544 | 4 |\n| 861 | 4 |\n| 175 | 3 |\n| 207 | 3 |\n| 239 | 3 |\n\n",
            "text/latex": "A tibble: 6 × 2\n\\begin{tabular}{ll}\n id\\_cliente & Total\\_Compras\\\\\n <dbl> & <int>\\\\\n\\hline\n\t 586 & 5\\\\\n\t 544 & 4\\\\\n\t 861 & 4\\\\\n\t 175 & 3\\\\\n\t 207 & 3\\\\\n\t 239 & 3\\\\\n\\end{tabular}\n",
            "text/plain": [
              "  id_cliente Total_Compras\n",
              "1 586        5            \n",
              "2 544        4            \n",
              "3 861        4            \n",
              "4 175        3            \n",
              "5 207        3            \n",
              "6 239        3            "
            ]
          },
          "metadata": {}
        }
      ]
    },
    {
      "cell_type": "code",
      "source": [
        "dados_milhas <- transacoes_passagens %>% select(id_cliente, Milhas_Utilizadas)"
      ],
      "metadata": {
        "id": "8wQf-kAipWRq"
      },
      "execution_count": 52,
      "outputs": []
    },
    {
      "cell_type": "code",
      "source": [
        "total_milhas_por_cliente <- dados_milhas %>% group_by(id_cliente) %>% summarise(total_milhas = sum(Milhas_Utilizadas))"
      ],
      "metadata": {
        "id": "NHMHVHEQphcF"
      },
      "execution_count": 53,
      "outputs": []
    },
    {
      "cell_type": "code",
      "source": [
        "total_milhas_por_cliente %>% arrange(desc(total_milhas)) %>% head()"
      ],
      "metadata": {
        "colab": {
          "base_uri": "https://localhost:8080/",
          "height": 286
        },
        "id": "gOrpOvIKp9-8",
        "outputId": "643e359e-40e8-46f2-ccf2-2c2cf49aebbd"
      },
      "execution_count": 55,
      "outputs": [
        {
          "output_type": "display_data",
          "data": {
            "text/html": [
              "<table class=\"dataframe\">\n",
              "<caption>A tibble: 6 × 2</caption>\n",
              "<thead>\n",
              "\t<tr><th scope=col>id_cliente</th><th scope=col>total_milhas</th></tr>\n",
              "\t<tr><th scope=col>&lt;dbl&gt;</th><th scope=col>&lt;dbl&gt;</th></tr>\n",
              "</thead>\n",
              "<tbody>\n",
              "\t<tr><td>544</td><td>28726</td></tr>\n",
              "\t<tr><td>572</td><td>22209</td></tr>\n",
              "\t<tr><td>890</td><td>19566</td></tr>\n",
              "\t<tr><td> 96</td><td>19047</td></tr>\n",
              "\t<tr><td>945</td><td>18514</td></tr>\n",
              "\t<tr><td> 32</td><td>18126</td></tr>\n",
              "</tbody>\n",
              "</table>\n"
            ],
            "text/markdown": "\nA tibble: 6 × 2\n\n| id_cliente &lt;dbl&gt; | total_milhas &lt;dbl&gt; |\n|---|---|\n| 544 | 28726 |\n| 572 | 22209 |\n| 890 | 19566 |\n|  96 | 19047 |\n| 945 | 18514 |\n|  32 | 18126 |\n\n",
            "text/latex": "A tibble: 6 × 2\n\\begin{tabular}{ll}\n id\\_cliente & total\\_milhas\\\\\n <dbl> & <dbl>\\\\\n\\hline\n\t 544 & 28726\\\\\n\t 572 & 22209\\\\\n\t 890 & 19566\\\\\n\t  96 & 19047\\\\\n\t 945 & 18514\\\\\n\t  32 & 18126\\\\\n\\end{tabular}\n",
            "text/plain": [
              "  id_cliente total_milhas\n",
              "1 544        28726       \n",
              "2 572        22209       \n",
              "3 890        19566       \n",
              "4  96        19047       \n",
              "5 945        18514       \n",
              "6  32        18126       "
            ]
          },
          "metadata": {}
        }
      ]
    },
    {
      "cell_type": "code",
      "source": [
        "transacoes_passagens <- transacoes_passagens %>% mutate(categoria_clinte = case_when(\n",
        "  Milhas_Utilizadas < 2000 ~ \"Baixo\",\n",
        "  Milhas_Utilizadas < 5000 ~ \"Médio\",\n",
        "  TRUE ~ \"Alto\"\n",
        "  ))"
      ],
      "metadata": {
        "id": "fvIzaZsrr056"
      },
      "execution_count": 56,
      "outputs": []
    },
    {
      "cell_type": "code",
      "source": [
        "transacoes_passagens %>% head()"
      ],
      "metadata": {
        "colab": {
          "base_uri": "https://localhost:8080/",
          "height": 306
        },
        "id": "beddI4AMslB7",
        "outputId": "2003ee76-f0cb-4594-9130-33f1def54740"
      },
      "execution_count": 57,
      "outputs": [
        {
          "output_type": "display_data",
          "data": {
            "text/html": [
              "<table class=\"dataframe\">\n",
              "<caption>A tibble: 6 × 10</caption>\n",
              "<thead>\n",
              "\t<tr><th scope=col>id_cliente</th><th scope=col>Data_Compra_Passagem</th><th scope=col>Milhas_Utilizadas</th><th scope=col>Valor_Pago</th><th scope=col>Custo_Por_Milha</th><th scope=col>Data_Nascimento</th><th scope=col>Status_Fidelidade</th><th scope=col>Milhas_Acumuladas</th><th scope=col>Gasto_Total</th><th scope=col>categoria_clinte</th></tr>\n",
              "\t<tr><th scope=col>&lt;dbl&gt;</th><th scope=col>&lt;date&gt;</th><th scope=col>&lt;dbl&gt;</th><th scope=col>&lt;dbl&gt;</th><th scope=col>&lt;dbl&gt;</th><th scope=col>&lt;date&gt;</th><th scope=col>&lt;chr&gt;</th><th scope=col>&lt;dbl&gt;</th><th scope=col>&lt;dbl&gt;</th><th scope=col>&lt;chr&gt;</th></tr>\n",
              "</thead>\n",
              "<tbody>\n",
              "\t<tr><td>967</td><td>2022-01-01</td><td>1198</td><td>1217.17</td><td>1.0160017</td><td>1963-12-21</td><td>Prata   </td><td>7635</td><td> 710.17</td><td>Baixo</td></tr>\n",
              "\t<tr><td>747</td><td>2022-01-01</td><td>8451</td><td>1064.09</td><td>0.1259129</td><td>1967-04-16</td><td>Diamante</td><td>1952</td><td> 706.99</td><td>Alto </td></tr>\n",
              "\t<tr><td>237</td><td>2022-01-01</td><td>7996</td><td>1684.94</td><td>0.2107229</td><td>1961-07-17</td><td>Ouro    </td><td>5529</td><td>1002.03</td><td>Alto </td></tr>\n",
              "\t<tr><td>504</td><td>2022-01-02</td><td>6143</td><td> 692.94</td><td>0.1128016</td><td>1999-02-14</td><td>Diamante</td><td>8871</td><td> 922.06</td><td>Alto </td></tr>\n",
              "\t<tr><td>840</td><td>2022-01-02</td><td>5267</td><td>1496.54</td><td>0.2841352</td><td>1983-12-04</td><td>Ouro    </td><td>9589</td><td>1987.85</td><td>Alto </td></tr>\n",
              "\t<tr><td>396</td><td>2022-01-02</td><td>1929</td><td> 760.04</td><td>0.3940073</td><td>1972-06-30</td><td>Diamante</td><td>2142</td><td> 285.24</td><td>Baixo</td></tr>\n",
              "</tbody>\n",
              "</table>\n"
            ],
            "text/markdown": "\nA tibble: 6 × 10\n\n| id_cliente &lt;dbl&gt; | Data_Compra_Passagem &lt;date&gt; | Milhas_Utilizadas &lt;dbl&gt; | Valor_Pago &lt;dbl&gt; | Custo_Por_Milha &lt;dbl&gt; | Data_Nascimento &lt;date&gt; | Status_Fidelidade &lt;chr&gt; | Milhas_Acumuladas &lt;dbl&gt; | Gasto_Total &lt;dbl&gt; | categoria_clinte &lt;chr&gt; |\n|---|---|---|---|---|---|---|---|---|---|\n| 967 | 2022-01-01 | 1198 | 1217.17 | 1.0160017 | 1963-12-21 | Prata    | 7635 |  710.17 | Baixo |\n| 747 | 2022-01-01 | 8451 | 1064.09 | 0.1259129 | 1967-04-16 | Diamante | 1952 |  706.99 | Alto  |\n| 237 | 2022-01-01 | 7996 | 1684.94 | 0.2107229 | 1961-07-17 | Ouro     | 5529 | 1002.03 | Alto  |\n| 504 | 2022-01-02 | 6143 |  692.94 | 0.1128016 | 1999-02-14 | Diamante | 8871 |  922.06 | Alto  |\n| 840 | 2022-01-02 | 5267 | 1496.54 | 0.2841352 | 1983-12-04 | Ouro     | 9589 | 1987.85 | Alto  |\n| 396 | 2022-01-02 | 1929 |  760.04 | 0.3940073 | 1972-06-30 | Diamante | 2142 |  285.24 | Baixo |\n\n",
            "text/latex": "A tibble: 6 × 10\n\\begin{tabular}{llllllllll}\n id\\_cliente & Data\\_Compra\\_Passagem & Milhas\\_Utilizadas & Valor\\_Pago & Custo\\_Por\\_Milha & Data\\_Nascimento & Status\\_Fidelidade & Milhas\\_Acumuladas & Gasto\\_Total & categoria\\_clinte\\\\\n <dbl> & <date> & <dbl> & <dbl> & <dbl> & <date> & <chr> & <dbl> & <dbl> & <chr>\\\\\n\\hline\n\t 967 & 2022-01-01 & 1198 & 1217.17 & 1.0160017 & 1963-12-21 & Prata    & 7635 &  710.17 & Baixo\\\\\n\t 747 & 2022-01-01 & 8451 & 1064.09 & 0.1259129 & 1967-04-16 & Diamante & 1952 &  706.99 & Alto \\\\\n\t 237 & 2022-01-01 & 7996 & 1684.94 & 0.2107229 & 1961-07-17 & Ouro     & 5529 & 1002.03 & Alto \\\\\n\t 504 & 2022-01-02 & 6143 &  692.94 & 0.1128016 & 1999-02-14 & Diamante & 8871 &  922.06 & Alto \\\\\n\t 840 & 2022-01-02 & 5267 & 1496.54 & 0.2841352 & 1983-12-04 & Ouro     & 9589 & 1987.85 & Alto \\\\\n\t 396 & 2022-01-02 & 1929 &  760.04 & 0.3940073 & 1972-06-30 & Diamante & 2142 &  285.24 & Baixo\\\\\n\\end{tabular}\n",
            "text/plain": [
              "  id_cliente Data_Compra_Passagem Milhas_Utilizadas Valor_Pago Custo_Por_Milha\n",
              "1 967        2022-01-01           1198              1217.17    1.0160017      \n",
              "2 747        2022-01-01           8451              1064.09    0.1259129      \n",
              "3 237        2022-01-01           7996              1684.94    0.2107229      \n",
              "4 504        2022-01-02           6143               692.94    0.1128016      \n",
              "5 840        2022-01-02           5267              1496.54    0.2841352      \n",
              "6 396        2022-01-02           1929               760.04    0.3940073      \n",
              "  Data_Nascimento Status_Fidelidade Milhas_Acumuladas Gasto_Total\n",
              "1 1963-12-21      Prata             7635               710.17    \n",
              "2 1967-04-16      Diamante          1952               706.99    \n",
              "3 1961-07-17      Ouro              5529              1002.03    \n",
              "4 1999-02-14      Diamante          8871               922.06    \n",
              "5 1983-12-04      Ouro              9589              1987.85    \n",
              "6 1972-06-30      Diamante          2142               285.24    \n",
              "  categoria_clinte\n",
              "1 Baixo           \n",
              "2 Alto            \n",
              "3 Alto            \n",
              "4 Alto            \n",
              "5 Alto            \n",
              "6 Baixo           "
            ]
          },
          "metadata": {}
        }
      ]
    },
    {
      "cell_type": "code",
      "source": [
        "transacoes_passagens <- transacoes_passagens %>%\n",
        "                        arrange(id_cliente, Data_Compra_Passagem) %>%\n",
        "                        group_by(id_cliente) %>%\n",
        "                        mutate(\n",
        "                              diferenca_milhas = Milhas_Utilizadas - lag(Milhas_Utilizadas),\n",
        "                              diferenca_valor_futuro = lead(Milhas_Utilizadas)\n",
        "                        ) %>%\n",
        "                          ungroup()"
      ],
      "metadata": {
        "id": "CbrGp0APu_M-"
      },
      "execution_count": 58,
      "outputs": []
    },
    {
      "cell_type": "code",
      "source": [
        "transacoes_passagens %>% head()"
      ],
      "metadata": {
        "colab": {
          "base_uri": "https://localhost:8080/",
          "height": 306
        },
        "id": "kfMqYLpewE6g",
        "outputId": "db5c80e3-29df-496d-aef7-622e4ddfdbc8"
      },
      "execution_count": 59,
      "outputs": [
        {
          "output_type": "display_data",
          "data": {
            "text/html": [
              "<table class=\"dataframe\">\n",
              "<caption>A tibble: 6 × 12</caption>\n",
              "<thead>\n",
              "\t<tr><th scope=col>id_cliente</th><th scope=col>Data_Compra_Passagem</th><th scope=col>Milhas_Utilizadas</th><th scope=col>Valor_Pago</th><th scope=col>Custo_Por_Milha</th><th scope=col>Data_Nascimento</th><th scope=col>Status_Fidelidade</th><th scope=col>Milhas_Acumuladas</th><th scope=col>Gasto_Total</th><th scope=col>categoria_clinte</th><th scope=col>diferenca_milhas</th><th scope=col>diferenca_valor_futuro</th></tr>\n",
              "\t<tr><th scope=col>&lt;dbl&gt;</th><th scope=col>&lt;date&gt;</th><th scope=col>&lt;dbl&gt;</th><th scope=col>&lt;dbl&gt;</th><th scope=col>&lt;dbl&gt;</th><th scope=col>&lt;date&gt;</th><th scope=col>&lt;chr&gt;</th><th scope=col>&lt;dbl&gt;</th><th scope=col>&lt;dbl&gt;</th><th scope=col>&lt;chr&gt;</th><th scope=col>&lt;dbl&gt;</th><th scope=col>&lt;dbl&gt;</th></tr>\n",
              "</thead>\n",
              "<tbody>\n",
              "\t<tr><td> 3</td><td>2022-03-24</td><td>1023</td><td>1588.11</td><td>1.55240469</td><td>1994-07-18</td><td>Diamante</td><td> 917</td><td> 519.16</td><td>Baixo</td><td>   NA</td><td>  NA</td></tr>\n",
              "\t<tr><td> 7</td><td>2022-09-16</td><td>9449</td><td>1906.01</td><td>0.20171553</td><td>1972-08-06</td><td>Diamante</td><td>2583</td><td> 924.60</td><td>Alto </td><td>   NA</td><td>4700</td></tr>\n",
              "\t<tr><td> 7</td><td>2022-12-07</td><td>4700</td><td>1285.88</td><td>0.27359149</td><td>1972-08-06</td><td>Diamante</td><td>2583</td><td> 924.60</td><td>Médio</td><td>-4749</td><td>  NA</td></tr>\n",
              "\t<tr><td>10</td><td>2022-06-07</td><td>6537</td><td> 469.28</td><td>0.07178828</td><td>1980-03-12</td><td>Bronze  </td><td>3829</td><td> 595.78</td><td>Alto </td><td>   NA</td><td>  NA</td></tr>\n",
              "\t<tr><td>12</td><td>2022-10-29</td><td>9312</td><td> 570.34</td><td>0.06124785</td><td>1978-10-09</td><td>Diamante</td><td>8857</td><td>1310.66</td><td>Alto </td><td>   NA</td><td>  NA</td></tr>\n",
              "\t<tr><td>13</td><td>2022-09-07</td><td>4123</td><td> 240.23</td><td>0.05826583</td><td>1996-12-31</td><td>Ouro    </td><td>2228</td><td>1316.16</td><td>Médio</td><td>   NA</td><td>  NA</td></tr>\n",
              "</tbody>\n",
              "</table>\n"
            ],
            "text/markdown": "\nA tibble: 6 × 12\n\n| id_cliente &lt;dbl&gt; | Data_Compra_Passagem &lt;date&gt; | Milhas_Utilizadas &lt;dbl&gt; | Valor_Pago &lt;dbl&gt; | Custo_Por_Milha &lt;dbl&gt; | Data_Nascimento &lt;date&gt; | Status_Fidelidade &lt;chr&gt; | Milhas_Acumuladas &lt;dbl&gt; | Gasto_Total &lt;dbl&gt; | categoria_clinte &lt;chr&gt; | diferenca_milhas &lt;dbl&gt; | diferenca_valor_futuro &lt;dbl&gt; |\n|---|---|---|---|---|---|---|---|---|---|---|---|\n|  3 | 2022-03-24 | 1023 | 1588.11 | 1.55240469 | 1994-07-18 | Diamante |  917 |  519.16 | Baixo |    NA |   NA |\n|  7 | 2022-09-16 | 9449 | 1906.01 | 0.20171553 | 1972-08-06 | Diamante | 2583 |  924.60 | Alto  |    NA | 4700 |\n|  7 | 2022-12-07 | 4700 | 1285.88 | 0.27359149 | 1972-08-06 | Diamante | 2583 |  924.60 | Médio | -4749 |   NA |\n| 10 | 2022-06-07 | 6537 |  469.28 | 0.07178828 | 1980-03-12 | Bronze   | 3829 |  595.78 | Alto  |    NA |   NA |\n| 12 | 2022-10-29 | 9312 |  570.34 | 0.06124785 | 1978-10-09 | Diamante | 8857 | 1310.66 | Alto  |    NA |   NA |\n| 13 | 2022-09-07 | 4123 |  240.23 | 0.05826583 | 1996-12-31 | Ouro     | 2228 | 1316.16 | Médio |    NA |   NA |\n\n",
            "text/latex": "A tibble: 6 × 12\n\\begin{tabular}{llllllllllll}\n id\\_cliente & Data\\_Compra\\_Passagem & Milhas\\_Utilizadas & Valor\\_Pago & Custo\\_Por\\_Milha & Data\\_Nascimento & Status\\_Fidelidade & Milhas\\_Acumuladas & Gasto\\_Total & categoria\\_clinte & diferenca\\_milhas & diferenca\\_valor\\_futuro\\\\\n <dbl> & <date> & <dbl> & <dbl> & <dbl> & <date> & <chr> & <dbl> & <dbl> & <chr> & <dbl> & <dbl>\\\\\n\\hline\n\t  3 & 2022-03-24 & 1023 & 1588.11 & 1.55240469 & 1994-07-18 & Diamante &  917 &  519.16 & Baixo &    NA &   NA\\\\\n\t  7 & 2022-09-16 & 9449 & 1906.01 & 0.20171553 & 1972-08-06 & Diamante & 2583 &  924.60 & Alto  &    NA & 4700\\\\\n\t  7 & 2022-12-07 & 4700 & 1285.88 & 0.27359149 & 1972-08-06 & Diamante & 2583 &  924.60 & Médio & -4749 &   NA\\\\\n\t 10 & 2022-06-07 & 6537 &  469.28 & 0.07178828 & 1980-03-12 & Bronze   & 3829 &  595.78 & Alto  &    NA &   NA\\\\\n\t 12 & 2022-10-29 & 9312 &  570.34 & 0.06124785 & 1978-10-09 & Diamante & 8857 & 1310.66 & Alto  &    NA &   NA\\\\\n\t 13 & 2022-09-07 & 4123 &  240.23 & 0.05826583 & 1996-12-31 & Ouro     & 2228 & 1316.16 & Médio &    NA &   NA\\\\\n\\end{tabular}\n",
            "text/plain": [
              "  id_cliente Data_Compra_Passagem Milhas_Utilizadas Valor_Pago Custo_Por_Milha\n",
              "1  3         2022-03-24           1023              1588.11    1.55240469     \n",
              "2  7         2022-09-16           9449              1906.01    0.20171553     \n",
              "3  7         2022-12-07           4700              1285.88    0.27359149     \n",
              "4 10         2022-06-07           6537               469.28    0.07178828     \n",
              "5 12         2022-10-29           9312               570.34    0.06124785     \n",
              "6 13         2022-09-07           4123               240.23    0.05826583     \n",
              "  Data_Nascimento Status_Fidelidade Milhas_Acumuladas Gasto_Total\n",
              "1 1994-07-18      Diamante           917               519.16    \n",
              "2 1972-08-06      Diamante          2583               924.60    \n",
              "3 1972-08-06      Diamante          2583               924.60    \n",
              "4 1980-03-12      Bronze            3829               595.78    \n",
              "5 1978-10-09      Diamante          8857              1310.66    \n",
              "6 1996-12-31      Ouro              2228              1316.16    \n",
              "  categoria_clinte diferenca_milhas diferenca_valor_futuro\n",
              "1 Baixo               NA              NA                  \n",
              "2 Alto                NA            4700                  \n",
              "3 Médio            -4749              NA                  \n",
              "4 Alto                NA              NA                  \n",
              "5 Alto                NA              NA                  \n",
              "6 Médio               NA              NA                  "
            ]
          },
          "metadata": {}
        }
      ]
    },
    {
      "cell_type": "code",
      "source": [
        "any(is.na(transacoes_passagens))"
      ],
      "metadata": {
        "colab": {
          "base_uri": "https://localhost:8080/",
          "height": 34
        },
        "id": "iTRkCjOHxMbJ",
        "outputId": "223a0f35-1d21-4bc4-82fb-1c075a4029db"
      },
      "execution_count": 60,
      "outputs": [
        {
          "output_type": "display_data",
          "data": {
            "text/html": [
              "TRUE"
            ],
            "text/markdown": "TRUE",
            "text/latex": "TRUE",
            "text/plain": [
              "[1] TRUE"
            ]
          },
          "metadata": {}
        }
      ]
    },
    {
      "cell_type": "code",
      "source": [
        "sum(is.na(transacoes_passagens))"
      ],
      "metadata": {
        "colab": {
          "base_uri": "https://localhost:8080/",
          "height": 34
        },
        "id": "uAeoOu7dxisG",
        "outputId": "eb5fc70c-47fd-4446-e3bf-43359c127d70"
      },
      "execution_count": 61,
      "outputs": [
        {
          "output_type": "display_data",
          "data": {
            "text/html": [
              "788"
            ],
            "text/markdown": "788",
            "text/latex": "788",
            "text/plain": [
              "[1] 788"
            ]
          },
          "metadata": {}
        }
      ]
    },
    {
      "cell_type": "code",
      "source": [
        "num_clientes <- transacoes_passagens %>% summarise(num_clientes = n_distinct(id_cliente))"
      ],
      "metadata": {
        "id": "h1-f51Yixwsi"
      },
      "execution_count": 62,
      "outputs": []
    },
    {
      "cell_type": "code",
      "source": [
        "num_clientes * 2"
      ],
      "metadata": {
        "colab": {
          "base_uri": "https://localhost:8080/",
          "height": 146
        },
        "id": "QqvbE-RPyGRB",
        "outputId": "d06714b9-49c7-4d70-9cb9-cc2610048e5c"
      },
      "execution_count": 64,
      "outputs": [
        {
          "output_type": "display_data",
          "data": {
            "text/html": [
              "<table class=\"dataframe\">\n",
              "<caption>A data.frame: 1 × 1</caption>\n",
              "<thead>\n",
              "\t<tr><th scope=col>num_clientes</th></tr>\n",
              "\t<tr><th scope=col>&lt;dbl&gt;</th></tr>\n",
              "</thead>\n",
              "<tbody>\n",
              "\t<tr><td>788</td></tr>\n",
              "</tbody>\n",
              "</table>\n"
            ],
            "text/markdown": "\nA data.frame: 1 × 1\n\n| num_clientes &lt;dbl&gt; |\n|---|\n| 788 |\n\n",
            "text/latex": "A data.frame: 1 × 1\n\\begin{tabular}{l}\n num\\_clientes\\\\\n <dbl>\\\\\n\\hline\n\t 788\\\\\n\\end{tabular}\n",
            "text/plain": [
              "  num_clientes\n",
              "1 788         "
            ]
          },
          "metadata": {}
        }
      ]
    },
    {
      "cell_type": "code",
      "source": [
        "transacoes_passagens <- transacoes_passagens %>%\n",
        "                        mutate(\n",
        "                          diferenca_milhas = coalesce(diferenca_milhas, 0),\n",
        "                          diferenca_valor_futuro = coalesce(diferenca_valor_futuro, 0)\n",
        "                        )"
      ],
      "metadata": {
        "id": "oPAaDw5gyabR"
      },
      "execution_count": 66,
      "outputs": []
    },
    {
      "cell_type": "code",
      "source": [
        "any(is.na(transacoes_passagens))"
      ],
      "metadata": {
        "colab": {
          "base_uri": "https://localhost:8080/",
          "height": 34
        },
        "id": "P_CEGcC6y3c6",
        "outputId": "70ecc4fa-c2df-4485-acb0-bc1ffdf4052b"
      },
      "execution_count": 67,
      "outputs": [
        {
          "output_type": "display_data",
          "data": {
            "text/html": [
              "FALSE"
            ],
            "text/markdown": "FALSE",
            "text/latex": "FALSE",
            "text/plain": [
              "[1] FALSE"
            ]
          },
          "metadata": {}
        }
      ]
    },
    {
      "cell_type": "code",
      "source": [
        "transacoes_passagens %>% arrange(desc(diferenca_milhas)) %>% head(10)"
      ],
      "metadata": {
        "colab": {
          "base_uri": "https://localhost:8080/",
          "height": 431
        },
        "id": "o6tRIbtLy93f",
        "outputId": "185606b0-9e4f-4ebb-e225-c134134d9ae0"
      },
      "execution_count": 68,
      "outputs": [
        {
          "output_type": "display_data",
          "data": {
            "text/html": [
              "<table class=\"dataframe\">\n",
              "<caption>A tibble: 10 × 12</caption>\n",
              "<thead>\n",
              "\t<tr><th scope=col>id_cliente</th><th scope=col>Data_Compra_Passagem</th><th scope=col>Milhas_Utilizadas</th><th scope=col>Valor_Pago</th><th scope=col>Custo_Por_Milha</th><th scope=col>Data_Nascimento</th><th scope=col>Status_Fidelidade</th><th scope=col>Milhas_Acumuladas</th><th scope=col>Gasto_Total</th><th scope=col>categoria_clinte</th><th scope=col>diferenca_milhas</th><th scope=col>diferenca_valor_futuro</th></tr>\n",
              "\t<tr><th scope=col>&lt;dbl&gt;</th><th scope=col>&lt;date&gt;</th><th scope=col>&lt;dbl&gt;</th><th scope=col>&lt;dbl&gt;</th><th scope=col>&lt;dbl&gt;</th><th scope=col>&lt;date&gt;</th><th scope=col>&lt;chr&gt;</th><th scope=col>&lt;dbl&gt;</th><th scope=col>&lt;dbl&gt;</th><th scope=col>&lt;chr&gt;</th><th scope=col>&lt;dbl&gt;</th><th scope=col>&lt;dbl&gt;</th></tr>\n",
              "</thead>\n",
              "<tbody>\n",
              "\t<tr><td>625</td><td>2022-12-30</td><td>7566</td><td>1890.54</td><td>0.24987312</td><td>1971-12-03</td><td>Bronze  </td><td>2787</td><td> 897.42</td><td>Alto</td><td>7122</td><td>0</td></tr>\n",
              "\t<tr><td>961</td><td>2022-12-30</td><td>7215</td><td> 594.29</td><td>0.08236868</td><td>2005-03-17</td><td>Ouro    </td><td>1488</td><td>1011.49</td><td>Alto</td><td>7095</td><td>0</td></tr>\n",
              "\t<tr><td>151</td><td>2022-08-28</td><td>8923</td><td> 689.02</td><td>0.07721842</td><td>1990-04-19</td><td>Ouro    </td><td>6262</td><td>1087.80</td><td>Alto</td><td>7009</td><td>0</td></tr>\n",
              "\t<tr><td>820</td><td>2022-11-09</td><td>9658</td><td> 472.85</td><td>0.04895941</td><td>1995-10-31</td><td>Diamante</td><td>3916</td><td>1843.98</td><td>Alto</td><td>6848</td><td>0</td></tr>\n",
              "\t<tr><td>807</td><td>2022-10-24</td><td>7239</td><td> 361.49</td><td>0.04993646</td><td>1991-07-08</td><td>Diamante</td><td>9252</td><td>1515.46</td><td>Alto</td><td>6740</td><td>0</td></tr>\n",
              "\t<tr><td>370</td><td>2022-09-23</td><td>8858</td><td> 884.50</td><td>0.09985324</td><td>1988-11-02</td><td>Bronze  </td><td>5013</td><td>1905.95</td><td>Alto</td><td>6545</td><td>0</td></tr>\n",
              "\t<tr><td>586</td><td>2022-11-20</td><td>9478</td><td>1070.43</td><td>0.11293838</td><td>1967-06-08</td><td>Ouro    </td><td> 463</td><td> 980.86</td><td>Alto</td><td>6222</td><td>0</td></tr>\n",
              "\t<tr><td>945</td><td>2022-12-19</td><td>7559</td><td>1441.52</td><td>0.19070247</td><td>1988-04-26</td><td>Prata   </td><td>5547</td><td>1801.21</td><td>Alto</td><td>6143</td><td>0</td></tr>\n",
              "\t<tr><td>332</td><td>2022-09-13</td><td>8010</td><td>1669.10</td><td>0.20837703</td><td>2002-04-14</td><td>Prata   </td><td>4243</td><td> 920.32</td><td>Alto</td><td>6112</td><td>0</td></tr>\n",
              "\t<tr><td>524</td><td>2022-05-01</td><td>7567</td><td>1649.38</td><td>0.21797013</td><td>2000-08-16</td><td>Ouro    </td><td>1139</td><td>1031.52</td><td>Alto</td><td>6041</td><td>0</td></tr>\n",
              "</tbody>\n",
              "</table>\n"
            ],
            "text/markdown": "\nA tibble: 10 × 12\n\n| id_cliente &lt;dbl&gt; | Data_Compra_Passagem &lt;date&gt; | Milhas_Utilizadas &lt;dbl&gt; | Valor_Pago &lt;dbl&gt; | Custo_Por_Milha &lt;dbl&gt; | Data_Nascimento &lt;date&gt; | Status_Fidelidade &lt;chr&gt; | Milhas_Acumuladas &lt;dbl&gt; | Gasto_Total &lt;dbl&gt; | categoria_clinte &lt;chr&gt; | diferenca_milhas &lt;dbl&gt; | diferenca_valor_futuro &lt;dbl&gt; |\n|---|---|---|---|---|---|---|---|---|---|---|---|\n| 625 | 2022-12-30 | 7566 | 1890.54 | 0.24987312 | 1971-12-03 | Bronze   | 2787 |  897.42 | Alto | 7122 | 0 |\n| 961 | 2022-12-30 | 7215 |  594.29 | 0.08236868 | 2005-03-17 | Ouro     | 1488 | 1011.49 | Alto | 7095 | 0 |\n| 151 | 2022-08-28 | 8923 |  689.02 | 0.07721842 | 1990-04-19 | Ouro     | 6262 | 1087.80 | Alto | 7009 | 0 |\n| 820 | 2022-11-09 | 9658 |  472.85 | 0.04895941 | 1995-10-31 | Diamante | 3916 | 1843.98 | Alto | 6848 | 0 |\n| 807 | 2022-10-24 | 7239 |  361.49 | 0.04993646 | 1991-07-08 | Diamante | 9252 | 1515.46 | Alto | 6740 | 0 |\n| 370 | 2022-09-23 | 8858 |  884.50 | 0.09985324 | 1988-11-02 | Bronze   | 5013 | 1905.95 | Alto | 6545 | 0 |\n| 586 | 2022-11-20 | 9478 | 1070.43 | 0.11293838 | 1967-06-08 | Ouro     |  463 |  980.86 | Alto | 6222 | 0 |\n| 945 | 2022-12-19 | 7559 | 1441.52 | 0.19070247 | 1988-04-26 | Prata    | 5547 | 1801.21 | Alto | 6143 | 0 |\n| 332 | 2022-09-13 | 8010 | 1669.10 | 0.20837703 | 2002-04-14 | Prata    | 4243 |  920.32 | Alto | 6112 | 0 |\n| 524 | 2022-05-01 | 7567 | 1649.38 | 0.21797013 | 2000-08-16 | Ouro     | 1139 | 1031.52 | Alto | 6041 | 0 |\n\n",
            "text/latex": "A tibble: 10 × 12\n\\begin{tabular}{llllllllllll}\n id\\_cliente & Data\\_Compra\\_Passagem & Milhas\\_Utilizadas & Valor\\_Pago & Custo\\_Por\\_Milha & Data\\_Nascimento & Status\\_Fidelidade & Milhas\\_Acumuladas & Gasto\\_Total & categoria\\_clinte & diferenca\\_milhas & diferenca\\_valor\\_futuro\\\\\n <dbl> & <date> & <dbl> & <dbl> & <dbl> & <date> & <chr> & <dbl> & <dbl> & <chr> & <dbl> & <dbl>\\\\\n\\hline\n\t 625 & 2022-12-30 & 7566 & 1890.54 & 0.24987312 & 1971-12-03 & Bronze   & 2787 &  897.42 & Alto & 7122 & 0\\\\\n\t 961 & 2022-12-30 & 7215 &  594.29 & 0.08236868 & 2005-03-17 & Ouro     & 1488 & 1011.49 & Alto & 7095 & 0\\\\\n\t 151 & 2022-08-28 & 8923 &  689.02 & 0.07721842 & 1990-04-19 & Ouro     & 6262 & 1087.80 & Alto & 7009 & 0\\\\\n\t 820 & 2022-11-09 & 9658 &  472.85 & 0.04895941 & 1995-10-31 & Diamante & 3916 & 1843.98 & Alto & 6848 & 0\\\\\n\t 807 & 2022-10-24 & 7239 &  361.49 & 0.04993646 & 1991-07-08 & Diamante & 9252 & 1515.46 & Alto & 6740 & 0\\\\\n\t 370 & 2022-09-23 & 8858 &  884.50 & 0.09985324 & 1988-11-02 & Bronze   & 5013 & 1905.95 & Alto & 6545 & 0\\\\\n\t 586 & 2022-11-20 & 9478 & 1070.43 & 0.11293838 & 1967-06-08 & Ouro     &  463 &  980.86 & Alto & 6222 & 0\\\\\n\t 945 & 2022-12-19 & 7559 & 1441.52 & 0.19070247 & 1988-04-26 & Prata    & 5547 & 1801.21 & Alto & 6143 & 0\\\\\n\t 332 & 2022-09-13 & 8010 & 1669.10 & 0.20837703 & 2002-04-14 & Prata    & 4243 &  920.32 & Alto & 6112 & 0\\\\\n\t 524 & 2022-05-01 & 7567 & 1649.38 & 0.21797013 & 2000-08-16 & Ouro     & 1139 & 1031.52 & Alto & 6041 & 0\\\\\n\\end{tabular}\n",
            "text/plain": [
              "   id_cliente Data_Compra_Passagem Milhas_Utilizadas Valor_Pago Custo_Por_Milha\n",
              "1  625        2022-12-30           7566              1890.54    0.24987312     \n",
              "2  961        2022-12-30           7215               594.29    0.08236868     \n",
              "3  151        2022-08-28           8923               689.02    0.07721842     \n",
              "4  820        2022-11-09           9658               472.85    0.04895941     \n",
              "5  807        2022-10-24           7239               361.49    0.04993646     \n",
              "6  370        2022-09-23           8858               884.50    0.09985324     \n",
              "7  586        2022-11-20           9478              1070.43    0.11293838     \n",
              "8  945        2022-12-19           7559              1441.52    0.19070247     \n",
              "9  332        2022-09-13           8010              1669.10    0.20837703     \n",
              "10 524        2022-05-01           7567              1649.38    0.21797013     \n",
              "   Data_Nascimento Status_Fidelidade Milhas_Acumuladas Gasto_Total\n",
              "1  1971-12-03      Bronze            2787               897.42    \n",
              "2  2005-03-17      Ouro              1488              1011.49    \n",
              "3  1990-04-19      Ouro              6262              1087.80    \n",
              "4  1995-10-31      Diamante          3916              1843.98    \n",
              "5  1991-07-08      Diamante          9252              1515.46    \n",
              "6  1988-11-02      Bronze            5013              1905.95    \n",
              "7  1967-06-08      Ouro               463               980.86    \n",
              "8  1988-04-26      Prata             5547              1801.21    \n",
              "9  2002-04-14      Prata             4243               920.32    \n",
              "10 2000-08-16      Ouro              1139              1031.52    \n",
              "   categoria_clinte diferenca_milhas diferenca_valor_futuro\n",
              "1  Alto             7122             0                     \n",
              "2  Alto             7095             0                     \n",
              "3  Alto             7009             0                     \n",
              "4  Alto             6848             0                     \n",
              "5  Alto             6740             0                     \n",
              "6  Alto             6545             0                     \n",
              "7  Alto             6222             0                     \n",
              "8  Alto             6143             0                     \n",
              "9  Alto             6112             0                     \n",
              "10 Alto             6041             0                     "
            ]
          },
          "metadata": {}
        }
      ]
    },
    {
      "cell_type": "code",
      "source": [
        "transacoes_passagens %>% arrange(desc(diferenca_valor_futuro)) %>% head(10)"
      ],
      "metadata": {
        "colab": {
          "base_uri": "https://localhost:8080/",
          "height": 431
        },
        "id": "1cApdV15zKA2",
        "outputId": "7ac8a123-e850-4b9c-96ea-ac48c1289997"
      },
      "execution_count": 69,
      "outputs": [
        {
          "output_type": "display_data",
          "data": {
            "text/html": [
              "<table class=\"dataframe\">\n",
              "<caption>A tibble: 10 × 12</caption>\n",
              "<thead>\n",
              "\t<tr><th scope=col>id_cliente</th><th scope=col>Data_Compra_Passagem</th><th scope=col>Milhas_Utilizadas</th><th scope=col>Valor_Pago</th><th scope=col>Custo_Por_Milha</th><th scope=col>Data_Nascimento</th><th scope=col>Status_Fidelidade</th><th scope=col>Milhas_Acumuladas</th><th scope=col>Gasto_Total</th><th scope=col>categoria_clinte</th><th scope=col>diferenca_milhas</th><th scope=col>diferenca_valor_futuro</th></tr>\n",
              "\t<tr><th scope=col>&lt;dbl&gt;</th><th scope=col>&lt;date&gt;</th><th scope=col>&lt;dbl&gt;</th><th scope=col>&lt;dbl&gt;</th><th scope=col>&lt;dbl&gt;</th><th scope=col>&lt;date&gt;</th><th scope=col>&lt;chr&gt;</th><th scope=col>&lt;dbl&gt;</th><th scope=col>&lt;dbl&gt;</th><th scope=col>&lt;chr&gt;</th><th scope=col>&lt;dbl&gt;</th><th scope=col>&lt;dbl&gt;</th></tr>\n",
              "</thead>\n",
              "<tbody>\n",
              "\t<tr><td>912</td><td>2022-05-11</td><td>4572</td><td> 494.11</td><td>0.10807305</td><td>1962-02-02</td><td>Diamante</td><td>1929</td><td>1788.99</td><td>Médio</td><td>  0</td><td>9910</td></tr>\n",
              "\t<tr><td>685</td><td>2022-06-19</td><td>4529</td><td>1612.55</td><td>0.35604990</td><td>1980-05-05</td><td>Bronze  </td><td>4673</td><td>1553.53</td><td>Médio</td><td>  0</td><td>9755</td></tr>\n",
              "\t<tr><td>371</td><td>2022-03-03</td><td>5410</td><td> 143.81</td><td>0.02658226</td><td>1988-09-22</td><td>Prata   </td><td>7580</td><td>1834.72</td><td>Alto </td><td>  0</td><td>9720</td></tr>\n",
              "\t<tr><td>820</td><td>2022-07-06</td><td>2810</td><td>1540.07</td><td>0.54806762</td><td>1995-10-31</td><td>Diamante</td><td>3916</td><td>1843.98</td><td>Médio</td><td>  0</td><td>9658</td></tr>\n",
              "\t<tr><td>890</td><td>2022-02-01</td><td>9951</td><td> 637.93</td><td>0.06410712</td><td>1974-03-14</td><td>Diamante</td><td> 900</td><td>1615.20</td><td>Alto </td><td>  0</td><td>9615</td></tr>\n",
              "\t<tr><td>586</td><td>2022-09-06</td><td>3256</td><td> 357.72</td><td>0.10986486</td><td>1967-06-08</td><td>Ouro    </td><td> 463</td><td> 980.86</td><td>Médio</td><td>737</td><td>9478</td></tr>\n",
              "\t<tr><td> 96</td><td>2022-03-14</td><td>9603</td><td>1917.23</td><td>0.19964907</td><td>1960-08-13</td><td>Prata   </td><td>8772</td><td> 406.40</td><td>Alto </td><td>  0</td><td>9444</td></tr>\n",
              "\t<tr><td>548</td><td>2022-02-19</td><td>6482</td><td> 687.07</td><td>0.10599661</td><td>1977-10-19</td><td>Ouro    </td><td>2011</td><td> 943.66</td><td>Alto </td><td>  0</td><td>9317</td></tr>\n",
              "\t<tr><td>144</td><td>2022-05-08</td><td>6847</td><td>1435.24</td><td>0.20961589</td><td>1981-08-02</td><td>Ouro    </td><td>4620</td><td>1300.02</td><td>Alto </td><td>  0</td><td>9275</td></tr>\n",
              "\t<tr><td>583</td><td>2022-01-29</td><td>5653</td><td> 435.02</td><td>0.07695383</td><td>1971-01-03</td><td>Ouro    </td><td>9373</td><td> 619.76</td><td>Alto </td><td>  0</td><td>8997</td></tr>\n",
              "</tbody>\n",
              "</table>\n"
            ],
            "text/markdown": "\nA tibble: 10 × 12\n\n| id_cliente &lt;dbl&gt; | Data_Compra_Passagem &lt;date&gt; | Milhas_Utilizadas &lt;dbl&gt; | Valor_Pago &lt;dbl&gt; | Custo_Por_Milha &lt;dbl&gt; | Data_Nascimento &lt;date&gt; | Status_Fidelidade &lt;chr&gt; | Milhas_Acumuladas &lt;dbl&gt; | Gasto_Total &lt;dbl&gt; | categoria_clinte &lt;chr&gt; | diferenca_milhas &lt;dbl&gt; | diferenca_valor_futuro &lt;dbl&gt; |\n|---|---|---|---|---|---|---|---|---|---|---|---|\n| 912 | 2022-05-11 | 4572 |  494.11 | 0.10807305 | 1962-02-02 | Diamante | 1929 | 1788.99 | Médio |   0 | 9910 |\n| 685 | 2022-06-19 | 4529 | 1612.55 | 0.35604990 | 1980-05-05 | Bronze   | 4673 | 1553.53 | Médio |   0 | 9755 |\n| 371 | 2022-03-03 | 5410 |  143.81 | 0.02658226 | 1988-09-22 | Prata    | 7580 | 1834.72 | Alto  |   0 | 9720 |\n| 820 | 2022-07-06 | 2810 | 1540.07 | 0.54806762 | 1995-10-31 | Diamante | 3916 | 1843.98 | Médio |   0 | 9658 |\n| 890 | 2022-02-01 | 9951 |  637.93 | 0.06410712 | 1974-03-14 | Diamante |  900 | 1615.20 | Alto  |   0 | 9615 |\n| 586 | 2022-09-06 | 3256 |  357.72 | 0.10986486 | 1967-06-08 | Ouro     |  463 |  980.86 | Médio | 737 | 9478 |\n|  96 | 2022-03-14 | 9603 | 1917.23 | 0.19964907 | 1960-08-13 | Prata    | 8772 |  406.40 | Alto  |   0 | 9444 |\n| 548 | 2022-02-19 | 6482 |  687.07 | 0.10599661 | 1977-10-19 | Ouro     | 2011 |  943.66 | Alto  |   0 | 9317 |\n| 144 | 2022-05-08 | 6847 | 1435.24 | 0.20961589 | 1981-08-02 | Ouro     | 4620 | 1300.02 | Alto  |   0 | 9275 |\n| 583 | 2022-01-29 | 5653 |  435.02 | 0.07695383 | 1971-01-03 | Ouro     | 9373 |  619.76 | Alto  |   0 | 8997 |\n\n",
            "text/latex": "A tibble: 10 × 12\n\\begin{tabular}{llllllllllll}\n id\\_cliente & Data\\_Compra\\_Passagem & Milhas\\_Utilizadas & Valor\\_Pago & Custo\\_Por\\_Milha & Data\\_Nascimento & Status\\_Fidelidade & Milhas\\_Acumuladas & Gasto\\_Total & categoria\\_clinte & diferenca\\_milhas & diferenca\\_valor\\_futuro\\\\\n <dbl> & <date> & <dbl> & <dbl> & <dbl> & <date> & <chr> & <dbl> & <dbl> & <chr> & <dbl> & <dbl>\\\\\n\\hline\n\t 912 & 2022-05-11 & 4572 &  494.11 & 0.10807305 & 1962-02-02 & Diamante & 1929 & 1788.99 & Médio &   0 & 9910\\\\\n\t 685 & 2022-06-19 & 4529 & 1612.55 & 0.35604990 & 1980-05-05 & Bronze   & 4673 & 1553.53 & Médio &   0 & 9755\\\\\n\t 371 & 2022-03-03 & 5410 &  143.81 & 0.02658226 & 1988-09-22 & Prata    & 7580 & 1834.72 & Alto  &   0 & 9720\\\\\n\t 820 & 2022-07-06 & 2810 & 1540.07 & 0.54806762 & 1995-10-31 & Diamante & 3916 & 1843.98 & Médio &   0 & 9658\\\\\n\t 890 & 2022-02-01 & 9951 &  637.93 & 0.06410712 & 1974-03-14 & Diamante &  900 & 1615.20 & Alto  &   0 & 9615\\\\\n\t 586 & 2022-09-06 & 3256 &  357.72 & 0.10986486 & 1967-06-08 & Ouro     &  463 &  980.86 & Médio & 737 & 9478\\\\\n\t  96 & 2022-03-14 & 9603 & 1917.23 & 0.19964907 & 1960-08-13 & Prata    & 8772 &  406.40 & Alto  &   0 & 9444\\\\\n\t 548 & 2022-02-19 & 6482 &  687.07 & 0.10599661 & 1977-10-19 & Ouro     & 2011 &  943.66 & Alto  &   0 & 9317\\\\\n\t 144 & 2022-05-08 & 6847 & 1435.24 & 0.20961589 & 1981-08-02 & Ouro     & 4620 & 1300.02 & Alto  &   0 & 9275\\\\\n\t 583 & 2022-01-29 & 5653 &  435.02 & 0.07695383 & 1971-01-03 & Ouro     & 9373 &  619.76 & Alto  &   0 & 8997\\\\\n\\end{tabular}\n",
            "text/plain": [
              "   id_cliente Data_Compra_Passagem Milhas_Utilizadas Valor_Pago Custo_Por_Milha\n",
              "1  912        2022-05-11           4572               494.11    0.10807305     \n",
              "2  685        2022-06-19           4529              1612.55    0.35604990     \n",
              "3  371        2022-03-03           5410               143.81    0.02658226     \n",
              "4  820        2022-07-06           2810              1540.07    0.54806762     \n",
              "5  890        2022-02-01           9951               637.93    0.06410712     \n",
              "6  586        2022-09-06           3256               357.72    0.10986486     \n",
              "7   96        2022-03-14           9603              1917.23    0.19964907     \n",
              "8  548        2022-02-19           6482               687.07    0.10599661     \n",
              "9  144        2022-05-08           6847              1435.24    0.20961589     \n",
              "10 583        2022-01-29           5653               435.02    0.07695383     \n",
              "   Data_Nascimento Status_Fidelidade Milhas_Acumuladas Gasto_Total\n",
              "1  1962-02-02      Diamante          1929              1788.99    \n",
              "2  1980-05-05      Bronze            4673              1553.53    \n",
              "3  1988-09-22      Prata             7580              1834.72    \n",
              "4  1995-10-31      Diamante          3916              1843.98    \n",
              "5  1974-03-14      Diamante           900              1615.20    \n",
              "6  1967-06-08      Ouro               463               980.86    \n",
              "7  1960-08-13      Prata             8772               406.40    \n",
              "8  1977-10-19      Ouro              2011               943.66    \n",
              "9  1981-08-02      Ouro              4620              1300.02    \n",
              "10 1971-01-03      Ouro              9373               619.76    \n",
              "   categoria_clinte diferenca_milhas diferenca_valor_futuro\n",
              "1  Médio              0              9910                  \n",
              "2  Médio              0              9755                  \n",
              "3  Alto               0              9720                  \n",
              "4  Médio              0              9658                  \n",
              "5  Alto               0              9615                  \n",
              "6  Médio            737              9478                  \n",
              "7  Alto               0              9444                  \n",
              "8  Alto               0              9317                  \n",
              "9  Alto               0              9275                  \n",
              "10 Alto               0              8997                  "
            ]
          },
          "metadata": {}
        }
      ]
    },
    {
      "cell_type": "code",
      "source": [
        "transacoes_passagens <- transacoes_passagens %>%\n",
        "                        mutate(categoria_clinte =\n",
        "                          recode(categoria_clinte,\n",
        "                            \"Baixo\" = \"Iniciante\",\n",
        "                            \"Médio\" = \"Intermediário\",\n",
        "                            \"Alto\" = \"Avançado\"\n",
        "                          )\n",
        "                        )"
      ],
      "metadata": {
        "id": "zSkBwKon2lil"
      },
      "execution_count": 71,
      "outputs": []
    },
    {
      "cell_type": "code",
      "source": [
        "transacoes_passagens %>% head()"
      ],
      "metadata": {
        "colab": {
          "base_uri": "https://localhost:8080/",
          "height": 306
        },
        "id": "5rtzM_4q2_04",
        "outputId": "833543bc-b261-42dd-8852-523c496cbdac"
      },
      "execution_count": 72,
      "outputs": [
        {
          "output_type": "display_data",
          "data": {
            "text/html": [
              "<table class=\"dataframe\">\n",
              "<caption>A tibble: 6 × 12</caption>\n",
              "<thead>\n",
              "\t<tr><th scope=col>id_cliente</th><th scope=col>Data_Compra_Passagem</th><th scope=col>Milhas_Utilizadas</th><th scope=col>Valor_Pago</th><th scope=col>Custo_Por_Milha</th><th scope=col>Data_Nascimento</th><th scope=col>Status_Fidelidade</th><th scope=col>Milhas_Acumuladas</th><th scope=col>Gasto_Total</th><th scope=col>categoria_clinte</th><th scope=col>diferenca_milhas</th><th scope=col>diferenca_valor_futuro</th></tr>\n",
              "\t<tr><th scope=col>&lt;dbl&gt;</th><th scope=col>&lt;date&gt;</th><th scope=col>&lt;dbl&gt;</th><th scope=col>&lt;dbl&gt;</th><th scope=col>&lt;dbl&gt;</th><th scope=col>&lt;date&gt;</th><th scope=col>&lt;chr&gt;</th><th scope=col>&lt;dbl&gt;</th><th scope=col>&lt;dbl&gt;</th><th scope=col>&lt;chr&gt;</th><th scope=col>&lt;dbl&gt;</th><th scope=col>&lt;dbl&gt;</th></tr>\n",
              "</thead>\n",
              "<tbody>\n",
              "\t<tr><td> 3</td><td>2022-03-24</td><td>1023</td><td>1588.11</td><td>1.55240469</td><td>1994-07-18</td><td>Diamante</td><td> 917</td><td> 519.16</td><td>Iniciante    </td><td>    0</td><td>   0</td></tr>\n",
              "\t<tr><td> 7</td><td>2022-09-16</td><td>9449</td><td>1906.01</td><td>0.20171553</td><td>1972-08-06</td><td>Diamante</td><td>2583</td><td> 924.60</td><td>Avançado     </td><td>    0</td><td>4700</td></tr>\n",
              "\t<tr><td> 7</td><td>2022-12-07</td><td>4700</td><td>1285.88</td><td>0.27359149</td><td>1972-08-06</td><td>Diamante</td><td>2583</td><td> 924.60</td><td>Intermediário</td><td>-4749</td><td>   0</td></tr>\n",
              "\t<tr><td>10</td><td>2022-06-07</td><td>6537</td><td> 469.28</td><td>0.07178828</td><td>1980-03-12</td><td>Bronze  </td><td>3829</td><td> 595.78</td><td>Avançado     </td><td>    0</td><td>   0</td></tr>\n",
              "\t<tr><td>12</td><td>2022-10-29</td><td>9312</td><td> 570.34</td><td>0.06124785</td><td>1978-10-09</td><td>Diamante</td><td>8857</td><td>1310.66</td><td>Avançado     </td><td>    0</td><td>   0</td></tr>\n",
              "\t<tr><td>13</td><td>2022-09-07</td><td>4123</td><td> 240.23</td><td>0.05826583</td><td>1996-12-31</td><td>Ouro    </td><td>2228</td><td>1316.16</td><td>Intermediário</td><td>    0</td><td>   0</td></tr>\n",
              "</tbody>\n",
              "</table>\n"
            ],
            "text/markdown": "\nA tibble: 6 × 12\n\n| id_cliente &lt;dbl&gt; | Data_Compra_Passagem &lt;date&gt; | Milhas_Utilizadas &lt;dbl&gt; | Valor_Pago &lt;dbl&gt; | Custo_Por_Milha &lt;dbl&gt; | Data_Nascimento &lt;date&gt; | Status_Fidelidade &lt;chr&gt; | Milhas_Acumuladas &lt;dbl&gt; | Gasto_Total &lt;dbl&gt; | categoria_clinte &lt;chr&gt; | diferenca_milhas &lt;dbl&gt; | diferenca_valor_futuro &lt;dbl&gt; |\n|---|---|---|---|---|---|---|---|---|---|---|---|\n|  3 | 2022-03-24 | 1023 | 1588.11 | 1.55240469 | 1994-07-18 | Diamante |  917 |  519.16 | Iniciante     |     0 |    0 |\n|  7 | 2022-09-16 | 9449 | 1906.01 | 0.20171553 | 1972-08-06 | Diamante | 2583 |  924.60 | Avançado      |     0 | 4700 |\n|  7 | 2022-12-07 | 4700 | 1285.88 | 0.27359149 | 1972-08-06 | Diamante | 2583 |  924.60 | Intermediário | -4749 |    0 |\n| 10 | 2022-06-07 | 6537 |  469.28 | 0.07178828 | 1980-03-12 | Bronze   | 3829 |  595.78 | Avançado      |     0 |    0 |\n| 12 | 2022-10-29 | 9312 |  570.34 | 0.06124785 | 1978-10-09 | Diamante | 8857 | 1310.66 | Avançado      |     0 |    0 |\n| 13 | 2022-09-07 | 4123 |  240.23 | 0.05826583 | 1996-12-31 | Ouro     | 2228 | 1316.16 | Intermediário |     0 |    0 |\n\n",
            "text/latex": "A tibble: 6 × 12\n\\begin{tabular}{llllllllllll}\n id\\_cliente & Data\\_Compra\\_Passagem & Milhas\\_Utilizadas & Valor\\_Pago & Custo\\_Por\\_Milha & Data\\_Nascimento & Status\\_Fidelidade & Milhas\\_Acumuladas & Gasto\\_Total & categoria\\_clinte & diferenca\\_milhas & diferenca\\_valor\\_futuro\\\\\n <dbl> & <date> & <dbl> & <dbl> & <dbl> & <date> & <chr> & <dbl> & <dbl> & <chr> & <dbl> & <dbl>\\\\\n\\hline\n\t  3 & 2022-03-24 & 1023 & 1588.11 & 1.55240469 & 1994-07-18 & Diamante &  917 &  519.16 & Iniciante     &     0 &    0\\\\\n\t  7 & 2022-09-16 & 9449 & 1906.01 & 0.20171553 & 1972-08-06 & Diamante & 2583 &  924.60 & Avançado      &     0 & 4700\\\\\n\t  7 & 2022-12-07 & 4700 & 1285.88 & 0.27359149 & 1972-08-06 & Diamante & 2583 &  924.60 & Intermediário & -4749 &    0\\\\\n\t 10 & 2022-06-07 & 6537 &  469.28 & 0.07178828 & 1980-03-12 & Bronze   & 3829 &  595.78 & Avançado      &     0 &    0\\\\\n\t 12 & 2022-10-29 & 9312 &  570.34 & 0.06124785 & 1978-10-09 & Diamante & 8857 & 1310.66 & Avançado      &     0 &    0\\\\\n\t 13 & 2022-09-07 & 4123 &  240.23 & 0.05826583 & 1996-12-31 & Ouro     & 2228 & 1316.16 & Intermediário &     0 &    0\\\\\n\\end{tabular}\n",
            "text/plain": [
              "  id_cliente Data_Compra_Passagem Milhas_Utilizadas Valor_Pago Custo_Por_Milha\n",
              "1  3         2022-03-24           1023              1588.11    1.55240469     \n",
              "2  7         2022-09-16           9449              1906.01    0.20171553     \n",
              "3  7         2022-12-07           4700              1285.88    0.27359149     \n",
              "4 10         2022-06-07           6537               469.28    0.07178828     \n",
              "5 12         2022-10-29           9312               570.34    0.06124785     \n",
              "6 13         2022-09-07           4123               240.23    0.05826583     \n",
              "  Data_Nascimento Status_Fidelidade Milhas_Acumuladas Gasto_Total\n",
              "1 1994-07-18      Diamante           917               519.16    \n",
              "2 1972-08-06      Diamante          2583               924.60    \n",
              "3 1972-08-06      Diamante          2583               924.60    \n",
              "4 1980-03-12      Bronze            3829               595.78    \n",
              "5 1978-10-09      Diamante          8857              1310.66    \n",
              "6 1996-12-31      Ouro              2228              1316.16    \n",
              "  categoria_clinte diferenca_milhas diferenca_valor_futuro\n",
              "1 Iniciante            0               0                  \n",
              "2 Avançado             0            4700                  \n",
              "3 Intermediário    -4749               0                  \n",
              "4 Avançado             0               0                  \n",
              "5 Avançado             0               0                  \n",
              "6 Intermediário        0               0                  "
            ]
          },
          "metadata": {}
        }
      ]
    },
    {
      "cell_type": "code",
      "source": [
        "transacoes_passagens %>% select (id_cliente, Milhas_Utilizadas, Milhas_Acumuladas) %>% head()"
      ],
      "metadata": {
        "colab": {
          "base_uri": "https://localhost:8080/",
          "height": 286
        },
        "id": "m-WIlq3T4Dyb",
        "outputId": "3ead9da8-9896-4e21-f237-d692749eb932"
      },
      "execution_count": 74,
      "outputs": [
        {
          "output_type": "display_data",
          "data": {
            "text/html": [
              "<table class=\"dataframe\">\n",
              "<caption>A tibble: 6 × 3</caption>\n",
              "<thead>\n",
              "\t<tr><th scope=col>id_cliente</th><th scope=col>Milhas_Utilizadas</th><th scope=col>Milhas_Acumuladas</th></tr>\n",
              "\t<tr><th scope=col>&lt;dbl&gt;</th><th scope=col>&lt;dbl&gt;</th><th scope=col>&lt;dbl&gt;</th></tr>\n",
              "</thead>\n",
              "<tbody>\n",
              "\t<tr><td> 3</td><td>1023</td><td> 917</td></tr>\n",
              "\t<tr><td> 7</td><td>9449</td><td>2583</td></tr>\n",
              "\t<tr><td> 7</td><td>4700</td><td>2583</td></tr>\n",
              "\t<tr><td>10</td><td>6537</td><td>3829</td></tr>\n",
              "\t<tr><td>12</td><td>9312</td><td>8857</td></tr>\n",
              "\t<tr><td>13</td><td>4123</td><td>2228</td></tr>\n",
              "</tbody>\n",
              "</table>\n"
            ],
            "text/markdown": "\nA tibble: 6 × 3\n\n| id_cliente &lt;dbl&gt; | Milhas_Utilizadas &lt;dbl&gt; | Milhas_Acumuladas &lt;dbl&gt; |\n|---|---|---|\n|  3 | 1023 |  917 |\n|  7 | 9449 | 2583 |\n|  7 | 4700 | 2583 |\n| 10 | 6537 | 3829 |\n| 12 | 9312 | 8857 |\n| 13 | 4123 | 2228 |\n\n",
            "text/latex": "A tibble: 6 × 3\n\\begin{tabular}{lll}\n id\\_cliente & Milhas\\_Utilizadas & Milhas\\_Acumuladas\\\\\n <dbl> & <dbl> & <dbl>\\\\\n\\hline\n\t  3 & 1023 &  917\\\\\n\t  7 & 9449 & 2583\\\\\n\t  7 & 4700 & 2583\\\\\n\t 10 & 6537 & 3829\\\\\n\t 12 & 9312 & 8857\\\\\n\t 13 & 4123 & 2228\\\\\n\\end{tabular}\n",
            "text/plain": [
              "  id_cliente Milhas_Utilizadas Milhas_Acumuladas\n",
              "1  3         1023               917             \n",
              "2  7         9449              2583             \n",
              "3  7         4700              2583             \n",
              "4 10         6537              3829             \n",
              "5 12         9312              8857             \n",
              "6 13         4123              2228             "
            ]
          },
          "metadata": {}
        }
      ]
    },
    {
      "cell_type": "code",
      "source": [
        "df_long <- transacoes_passagens %>%\n",
        "            pivot_longer(\n",
        "              cols = starts_with(\"Milhas\"),\n",
        "              names_to = \"tipo_milhas\",\n",
        "              values_to = \"quantidade\"\n",
        "            ) %>%\n",
        "            select(id_cliente, tipo_milhas, quantidade)\n"
      ],
      "metadata": {
        "id": "mIN-wyoJ4erg"
      },
      "execution_count": 75,
      "outputs": []
    },
    {
      "cell_type": "code",
      "source": [
        "df_long %>% head()"
      ],
      "metadata": {
        "colab": {
          "base_uri": "https://localhost:8080/",
          "height": 286
        },
        "id": "4HSDbhxD5FBK",
        "outputId": "ba15f0e3-8c7e-47ed-9d60-98c04c7e166c"
      },
      "execution_count": 76,
      "outputs": [
        {
          "output_type": "display_data",
          "data": {
            "text/html": [
              "<table class=\"dataframe\">\n",
              "<caption>A tibble: 6 × 3</caption>\n",
              "<thead>\n",
              "\t<tr><th scope=col>id_cliente</th><th scope=col>tipo_milhas</th><th scope=col>quantidade</th></tr>\n",
              "\t<tr><th scope=col>&lt;dbl&gt;</th><th scope=col>&lt;chr&gt;</th><th scope=col>&lt;dbl&gt;</th></tr>\n",
              "</thead>\n",
              "<tbody>\n",
              "\t<tr><td>3</td><td>Milhas_Utilizadas</td><td>1023</td></tr>\n",
              "\t<tr><td>3</td><td>Milhas_Acumuladas</td><td> 917</td></tr>\n",
              "\t<tr><td>7</td><td>Milhas_Utilizadas</td><td>9449</td></tr>\n",
              "\t<tr><td>7</td><td>Milhas_Acumuladas</td><td>2583</td></tr>\n",
              "\t<tr><td>7</td><td>Milhas_Utilizadas</td><td>4700</td></tr>\n",
              "\t<tr><td>7</td><td>Milhas_Acumuladas</td><td>2583</td></tr>\n",
              "</tbody>\n",
              "</table>\n"
            ],
            "text/markdown": "\nA tibble: 6 × 3\n\n| id_cliente &lt;dbl&gt; | tipo_milhas &lt;chr&gt; | quantidade &lt;dbl&gt; |\n|---|---|---|\n| 3 | Milhas_Utilizadas | 1023 |\n| 3 | Milhas_Acumuladas |  917 |\n| 7 | Milhas_Utilizadas | 9449 |\n| 7 | Milhas_Acumuladas | 2583 |\n| 7 | Milhas_Utilizadas | 4700 |\n| 7 | Milhas_Acumuladas | 2583 |\n\n",
            "text/latex": "A tibble: 6 × 3\n\\begin{tabular}{lll}\n id\\_cliente & tipo\\_milhas & quantidade\\\\\n <dbl> & <chr> & <dbl>\\\\\n\\hline\n\t 3 & Milhas\\_Utilizadas & 1023\\\\\n\t 3 & Milhas\\_Acumuladas &  917\\\\\n\t 7 & Milhas\\_Utilizadas & 9449\\\\\n\t 7 & Milhas\\_Acumuladas & 2583\\\\\n\t 7 & Milhas\\_Utilizadas & 4700\\\\\n\t 7 & Milhas\\_Acumuladas & 2583\\\\\n\\end{tabular}\n",
            "text/plain": [
              "  id_cliente tipo_milhas       quantidade\n",
              "1 3          Milhas_Utilizadas 1023      \n",
              "2 3          Milhas_Acumuladas  917      \n",
              "3 7          Milhas_Utilizadas 9449      \n",
              "4 7          Milhas_Acumuladas 2583      \n",
              "5 7          Milhas_Utilizadas 4700      \n",
              "6 7          Milhas_Acumuladas 2583      "
            ]
          },
          "metadata": {}
        }
      ]
    },
    {
      "cell_type": "code",
      "source": [
        "df_long %>%\n",
        "  group_by(tipo_milhas) %>%\n",
        "  summarise(\n",
        "    media = mean(quantidade),\n",
        "    mediana = median(quantidade),\n",
        "    desvio_padrao = sd(quantidade),\n",
        "  )"
      ],
      "metadata": {
        "colab": {
          "base_uri": "https://localhost:8080/",
          "height": 160
        },
        "id": "adq0HoOH5XMD",
        "outputId": "1a41f3b8-4e1e-4d6f-c74f-a2d821a85e37"
      },
      "execution_count": 78,
      "outputs": [
        {
          "output_type": "display_data",
          "data": {
            "text/html": [
              "<table class=\"dataframe\">\n",
              "<caption>A tibble: 2 × 4</caption>\n",
              "<thead>\n",
              "\t<tr><th scope=col>tipo_milhas</th><th scope=col>media</th><th scope=col>mediana</th><th scope=col>desvio_padrao</th></tr>\n",
              "\t<tr><th scope=col>&lt;chr&gt;</th><th scope=col>&lt;dbl&gt;</th><th scope=col>&lt;dbl&gt;</th><th scope=col>&lt;dbl&gt;</th></tr>\n",
              "</thead>\n",
              "<tbody>\n",
              "\t<tr><td>Milhas_Acumuladas</td><td>5028.865</td><td>4926.5</td><td>2916.979</td></tr>\n",
              "\t<tr><td>Milhas_Utilizadas</td><td>5112.629</td><td>5260.5</td><td>2793.163</td></tr>\n",
              "</tbody>\n",
              "</table>\n"
            ],
            "text/markdown": "\nA tibble: 2 × 4\n\n| tipo_milhas &lt;chr&gt; | media &lt;dbl&gt; | mediana &lt;dbl&gt; | desvio_padrao &lt;dbl&gt; |\n|---|---|---|---|\n| Milhas_Acumuladas | 5028.865 | 4926.5 | 2916.979 |\n| Milhas_Utilizadas | 5112.629 | 5260.5 | 2793.163 |\n\n",
            "text/latex": "A tibble: 2 × 4\n\\begin{tabular}{llll}\n tipo\\_milhas & media & mediana & desvio\\_padrao\\\\\n <chr> & <dbl> & <dbl> & <dbl>\\\\\n\\hline\n\t Milhas\\_Acumuladas & 5028.865 & 4926.5 & 2916.979\\\\\n\t Milhas\\_Utilizadas & 5112.629 & 5260.5 & 2793.163\\\\\n\\end{tabular}\n",
            "text/plain": [
              "  tipo_milhas       media    mediana desvio_padrao\n",
              "1 Milhas_Acumuladas 5028.865 4926.5  2916.979     \n",
              "2 Milhas_Utilizadas 5112.629 5260.5  2793.163     "
            ]
          },
          "metadata": {}
        }
      ]
    },
    {
      "cell_type": "code",
      "source": [],
      "metadata": {
        "id": "lIzYsYrh51et"
      },
      "execution_count": null,
      "outputs": []
    }
  ]
}